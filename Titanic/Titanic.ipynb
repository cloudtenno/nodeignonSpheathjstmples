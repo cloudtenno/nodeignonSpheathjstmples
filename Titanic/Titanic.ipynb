{
 "cells": [
  {
   "cell_type": "code",
   "execution_count": 1,
   "metadata": {},
   "outputs": [
    {
     "data": {
      "text/plain": [
       "((891, 12),\n",
       " (418, 11),\n",
       " array(['PassengerId', 'Survived', 'Pclass', 'Name', 'Sex', 'Age', 'SibSp',\n",
       "        'Parch', 'Ticket', 'Fare', 'Cabin', 'Embarked'], dtype=object),\n",
       " array(['PassengerId', 'Pclass', 'Name', 'Sex', 'Age', 'SibSp', 'Parch',\n",
       "        'Ticket', 'Fare', 'Cabin', 'Embarked'], dtype=object))"
      ]
     },
     "execution_count": 1,
     "metadata": {},
     "output_type": "execute_result"
    }
   ],
   "source": [
    "# Import all the libraries I need\n",
    "import numpy as np\n",
    "import pandas as pd\n",
    "import matplotlib.pyplot as plt\n",
    "import seaborn as sns\n",
    "%matplotlib inline\n",
    "\n",
    "# ignore Deprecation Warning\n",
    "import warnings\n",
    "warnings.filterwarnings(\"ignore\", category=DeprecationWarning) \n",
    "\n",
    "from sklearn.ensemble import RandomForestRegressor\n",
    "#from sklearn.ensemble import RandomForestClassifier\n",
    "#from xgboost import XGBClassifier\n",
    "#from sklearn.model_selection import cross_val_score\n",
    "#from sklearn.model_selection import GridSearchCV\n",
    "\n",
    "import keras \n",
    "from keras.models import Sequential # intitialize the ANN\n",
    "from keras.layers import Dense      # create layers\n",
    "\n",
    "# load the data\n",
    "df_train = pd.read_csv('train.csv')\n",
    "df_test = pd.read_csv('test.csv')\n",
    "df = df_train.append(df_test , ignore_index = True)\n",
    "\n",
    "\n",
    "\n",
    "# some quick inspections\n",
    "df_train.shape, df_test.shape, df_train.columns.values, df_test.columns.values"
   ]
  },
  {
   "cell_type": "code",
   "execution_count": 2,
   "metadata": {},
   "outputs": [
    {
     "data": {
      "text/html": [
       "<div>\n",
       "<style scoped>\n",
       "    .dataframe tbody tr th:only-of-type {\n",
       "        vertical-align: middle;\n",
       "    }\n",
       "\n",
       "    .dataframe tbody tr th {\n",
       "        vertical-align: top;\n",
       "    }\n",
       "\n",
       "    .dataframe thead th {\n",
       "        text-align: right;\n",
       "    }\n",
       "</style>\n",
       "<table border=\"1\" class=\"dataframe\">\n",
       "  <thead>\n",
       "    <tr style=\"text-align: right;\">\n",
       "      <th></th>\n",
       "      <th>Pclass</th>\n",
       "      <th>Survived</th>\n",
       "    </tr>\n",
       "  </thead>\n",
       "  <tbody>\n",
       "    <tr>\n",
       "      <th>0</th>\n",
       "      <td>1</td>\n",
       "      <td>0.629630</td>\n",
       "    </tr>\n",
       "    <tr>\n",
       "      <th>1</th>\n",
       "      <td>2</td>\n",
       "      <td>0.472826</td>\n",
       "    </tr>\n",
       "    <tr>\n",
       "      <th>2</th>\n",
       "      <td>3</td>\n",
       "      <td>0.242363</td>\n",
       "    </tr>\n",
       "  </tbody>\n",
       "</table>\n",
       "</div>"
      ],
      "text/plain": [
       "   Pclass  Survived\n",
       "0       1  0.629630\n",
       "1       2  0.472826\n",
       "2       3  0.242363"
      ]
     },
     "execution_count": 2,
     "metadata": {},
     "output_type": "execute_result"
    }
   ],
   "source": [
    "# inspect the correlation between Pclass and Survived\n",
    "df[['Pclass', 'Survived']].groupby(['Pclass'], as_index=False).mean()"
   ]
  },
  {
   "cell_type": "code",
   "execution_count": 3,
   "metadata": {},
   "outputs": [
    {
     "data": {
      "text/plain": [
       "Mr              757\n",
       "Miss            260\n",
       "Mrs             197\n",
       "Master           61\n",
       "Rev               8\n",
       "Dr                8\n",
       "Col               4\n",
       "Mlle              2\n",
       "Ms                2\n",
       "Major             2\n",
       "Sir               1\n",
       "Jonkheer          1\n",
       "Don               1\n",
       "the Countess      1\n",
       "Dona              1\n",
       "Mme               1\n",
       "Capt              1\n",
       "Lady              1\n",
       "Name: Title, dtype: int64"
      ]
     },
     "execution_count": 3,
     "metadata": {},
     "output_type": "execute_result"
    }
   ],
   "source": [
    "df['Title'] = df.Name.map( lambda x: x.split(',')[1].split( '.' )[0].strip())\n",
    "\n",
    "# inspect the amount of people for each title\n",
    "df['Title'].value_counts()"
   ]
  },
  {
   "cell_type": "code",
   "execution_count": 4,
   "metadata": {},
   "outputs": [
    {
     "name": "stderr",
     "output_type": "stream",
     "text": [
      "S:\\Anaconda\\lib\\site-packages\\pandas\\core\\indexing.py:671: SettingWithCopyWarning: \n",
      "A value is trying to be set on a copy of a slice from a DataFrame\n",
      "\n",
      "See the caveats in the documentation: https://pandas.pydata.org/pandas-docs/stable/user_guide/indexing.html#returning-a-view-versus-a-copy\n",
      "  self._setitem_with_indexer(indexer, value)\n"
     ]
    },
    {
     "data": {
      "text/html": [
       "<div>\n",
       "<style scoped>\n",
       "    .dataframe tbody tr th:only-of-type {\n",
       "        vertical-align: middle;\n",
       "    }\n",
       "\n",
       "    .dataframe tbody tr th {\n",
       "        vertical-align: top;\n",
       "    }\n",
       "\n",
       "    .dataframe thead th {\n",
       "        text-align: right;\n",
       "    }\n",
       "</style>\n",
       "<table border=\"1\" class=\"dataframe\">\n",
       "  <thead>\n",
       "    <tr style=\"text-align: right;\">\n",
       "      <th></th>\n",
       "      <th>Title</th>\n",
       "      <th>Survived</th>\n",
       "    </tr>\n",
       "  </thead>\n",
       "  <tbody>\n",
       "    <tr>\n",
       "      <th>0</th>\n",
       "      <td>Master</td>\n",
       "      <td>0.575000</td>\n",
       "    </tr>\n",
       "    <tr>\n",
       "      <th>1</th>\n",
       "      <td>Miss</td>\n",
       "      <td>0.701087</td>\n",
       "    </tr>\n",
       "    <tr>\n",
       "      <th>2</th>\n",
       "      <td>Mr</td>\n",
       "      <td>0.156673</td>\n",
       "    </tr>\n",
       "    <tr>\n",
       "      <th>3</th>\n",
       "      <td>Mrs</td>\n",
       "      <td>0.796875</td>\n",
       "    </tr>\n",
       "    <tr>\n",
       "      <th>4</th>\n",
       "      <td>Others</td>\n",
       "      <td>0.318182</td>\n",
       "    </tr>\n",
       "  </tbody>\n",
       "</table>\n",
       "</div>"
      ],
      "text/plain": [
       "    Title  Survived\n",
       "0  Master  0.575000\n",
       "1    Miss  0.701087\n",
       "2      Mr  0.156673\n",
       "3     Mrs  0.796875\n",
       "4  Others  0.318182"
      ]
     },
     "execution_count": 4,
     "metadata": {},
     "output_type": "execute_result"
    }
   ],
   "source": [
    "df['Title'] = df['Title'].replace('Mlle', 'Miss')\n",
    "df['Title'] = df['Title'].replace(['Mme','Lady','Ms'], 'Mrs')\n",
    "df.Title.loc[ (df.Title !=  'Master') & (df.Title !=  'Mr') & (df.Title !=  'Miss') \n",
    "             & (df.Title !=  'Mrs')] = 'Others'\n",
    "\n",
    "# inspect the correlation between Title and Survived\n",
    "df[['Title', 'Survived']].groupby(['Title'], as_index=False).mean()"
   ]
  },
  {
   "cell_type": "code",
   "execution_count": 5,
   "metadata": {},
   "outputs": [
    {
     "data": {
      "text/plain": [
       "Mr        757\n",
       "Miss      262\n",
       "Mrs       201\n",
       "Master     61\n",
       "Others     28\n",
       "Name: Title, dtype: int64"
      ]
     },
     "execution_count": 5,
     "metadata": {},
     "output_type": "execute_result"
    }
   ],
   "source": [
    "# inspect the amount of people for each title\n",
    "df['Title'].value_counts()"
   ]
  },
  {
   "cell_type": "code",
   "execution_count": 6,
   "metadata": {},
   "outputs": [],
   "source": [
    "df = pd.concat([df, pd.get_dummies(df['Title'])], axis=1).drop(labels=['Name'], axis=1)"
   ]
  },
  {
   "cell_type": "code",
   "execution_count": 7,
   "metadata": {},
   "outputs": [
    {
     "data": {
      "text/plain": [
       "0"
      ]
     },
     "execution_count": 7,
     "metadata": {},
     "output_type": "execute_result"
    }
   ],
   "source": [
    "# check if there is any NAN\n",
    "df.Sex.isnull().sum(axis=0)"
   ]
  },
  {
   "cell_type": "code",
   "execution_count": 8,
   "metadata": {},
   "outputs": [
    {
     "data": {
      "text/html": [
       "<div>\n",
       "<style scoped>\n",
       "    .dataframe tbody tr th:only-of-type {\n",
       "        vertical-align: middle;\n",
       "    }\n",
       "\n",
       "    .dataframe tbody tr th {\n",
       "        vertical-align: top;\n",
       "    }\n",
       "\n",
       "    .dataframe thead th {\n",
       "        text-align: right;\n",
       "    }\n",
       "</style>\n",
       "<table border=\"1\" class=\"dataframe\">\n",
       "  <thead>\n",
       "    <tr style=\"text-align: right;\">\n",
       "      <th></th>\n",
       "      <th>Sex</th>\n",
       "      <th>Survived</th>\n",
       "    </tr>\n",
       "  </thead>\n",
       "  <tbody>\n",
       "    <tr>\n",
       "      <th>0</th>\n",
       "      <td>female</td>\n",
       "      <td>0.742038</td>\n",
       "    </tr>\n",
       "    <tr>\n",
       "      <th>1</th>\n",
       "      <td>male</td>\n",
       "      <td>0.188908</td>\n",
       "    </tr>\n",
       "  </tbody>\n",
       "</table>\n",
       "</div>"
      ],
      "text/plain": [
       "      Sex  Survived\n",
       "0  female  0.742038\n",
       "1    male  0.188908"
      ]
     },
     "execution_count": 8,
     "metadata": {},
     "output_type": "execute_result"
    }
   ],
   "source": [
    "# inspect the correlation between Sex and Survived\n",
    "df[['Sex', 'Survived']].groupby(['Sex'], as_index=False).mean()"
   ]
  },
  {
   "cell_type": "code",
   "execution_count": 9,
   "metadata": {},
   "outputs": [],
   "source": [
    "# map the two genders to 0 and 1\n",
    "df.Sex = df.Sex.map({'male':0, 'female':1})"
   ]
  },
  {
   "cell_type": "code",
   "execution_count": 10,
   "metadata": {},
   "outputs": [
    {
     "data": {
      "text/plain": [
       "263"
      ]
     },
     "execution_count": 10,
     "metadata": {},
     "output_type": "execute_result"
    }
   ],
   "source": [
    "# check if there is any NAN\n",
    "df.Age.isnull().sum(axis=0)"
   ]
  },
  {
   "cell_type": "code",
   "execution_count": 11,
   "metadata": {},
   "outputs": [
    {
     "data": {
      "text/plain": [
       "(0, 0)"
      ]
     },
     "execution_count": 11,
     "metadata": {},
     "output_type": "execute_result"
    }
   ],
   "source": [
    "# check if there is any NAN\n",
    "df.SibSp.isnull().sum(axis=0), df.Parch.isnull().sum(axis=0)"
   ]
  },
  {
   "cell_type": "code",
   "execution_count": 12,
   "metadata": {},
   "outputs": [
    {
     "data": {
      "text/html": [
       "<div>\n",
       "<style scoped>\n",
       "    .dataframe tbody tr th:only-of-type {\n",
       "        vertical-align: middle;\n",
       "    }\n",
       "\n",
       "    .dataframe tbody tr th {\n",
       "        vertical-align: top;\n",
       "    }\n",
       "\n",
       "    .dataframe thead th {\n",
       "        text-align: right;\n",
       "    }\n",
       "</style>\n",
       "<table border=\"1\" class=\"dataframe\">\n",
       "  <thead>\n",
       "    <tr style=\"text-align: right;\">\n",
       "      <th></th>\n",
       "      <th>Family</th>\n",
       "      <th>Survived</th>\n",
       "    </tr>\n",
       "  </thead>\n",
       "  <tbody>\n",
       "    <tr>\n",
       "      <th>0</th>\n",
       "      <td>1</td>\n",
       "      <td>0.303538</td>\n",
       "    </tr>\n",
       "    <tr>\n",
       "      <th>1</th>\n",
       "      <td>2</td>\n",
       "      <td>0.552795</td>\n",
       "    </tr>\n",
       "    <tr>\n",
       "      <th>2</th>\n",
       "      <td>3</td>\n",
       "      <td>0.578431</td>\n",
       "    </tr>\n",
       "    <tr>\n",
       "      <th>3</th>\n",
       "      <td>4</td>\n",
       "      <td>0.724138</td>\n",
       "    </tr>\n",
       "    <tr>\n",
       "      <th>4</th>\n",
       "      <td>5</td>\n",
       "      <td>0.200000</td>\n",
       "    </tr>\n",
       "    <tr>\n",
       "      <th>5</th>\n",
       "      <td>6</td>\n",
       "      <td>0.136364</td>\n",
       "    </tr>\n",
       "    <tr>\n",
       "      <th>6</th>\n",
       "      <td>7</td>\n",
       "      <td>0.333333</td>\n",
       "    </tr>\n",
       "    <tr>\n",
       "      <th>7</th>\n",
       "      <td>8</td>\n",
       "      <td>0.000000</td>\n",
       "    </tr>\n",
       "    <tr>\n",
       "      <th>8</th>\n",
       "      <td>11</td>\n",
       "      <td>0.000000</td>\n",
       "    </tr>\n",
       "  </tbody>\n",
       "</table>\n",
       "</div>"
      ],
      "text/plain": [
       "   Family  Survived\n",
       "0       1  0.303538\n",
       "1       2  0.552795\n",
       "2       3  0.578431\n",
       "3       4  0.724138\n",
       "4       5  0.200000\n",
       "5       6  0.136364\n",
       "6       7  0.333333\n",
       "7       8  0.000000\n",
       "8      11  0.000000"
      ]
     },
     "execution_count": 12,
     "metadata": {},
     "output_type": "execute_result"
    }
   ],
   "source": [
    "# create a new feature \"Family\"\n",
    "df['Family'] = df['SibSp'] + df['Parch'] + 1\n",
    "\n",
    "# inspect the correlation between Family and Survived\n",
    "df[['Family', 'Survived']].groupby(['Family'], as_index=False).mean()"
   ]
  },
  {
   "cell_type": "code",
   "execution_count": 13,
   "metadata": {},
   "outputs": [
    {
     "data": {
      "text/plain": [
       "1     790\n",
       "2     235\n",
       "3     159\n",
       "4      43\n",
       "6      25\n",
       "5      22\n",
       "7      16\n",
       "11     11\n",
       "8       8\n",
       "Name: Family, dtype: int64"
      ]
     },
     "execution_count": 13,
     "metadata": {},
     "output_type": "execute_result"
    }
   ],
   "source": [
    "# inspect the amount of people for each Family size\n",
    "df['Family'].value_counts()"
   ]
  },
  {
   "cell_type": "code",
   "execution_count": 14,
   "metadata": {},
   "outputs": [
    {
     "data": {
      "text/html": [
       "<div>\n",
       "<style scoped>\n",
       "    .dataframe tbody tr th:only-of-type {\n",
       "        vertical-align: middle;\n",
       "    }\n",
       "\n",
       "    .dataframe tbody tr th {\n",
       "        vertical-align: top;\n",
       "    }\n",
       "\n",
       "    .dataframe thead th {\n",
       "        text-align: right;\n",
       "    }\n",
       "</style>\n",
       "<table border=\"1\" class=\"dataframe\">\n",
       "  <thead>\n",
       "    <tr style=\"text-align: right;\">\n",
       "      <th></th>\n",
       "      <th>Family</th>\n",
       "      <th>Survived</th>\n",
       "    </tr>\n",
       "  </thead>\n",
       "  <tbody>\n",
       "    <tr>\n",
       "      <th>0</th>\n",
       "      <td>0</td>\n",
       "      <td>0.161290</td>\n",
       "    </tr>\n",
       "    <tr>\n",
       "      <th>1</th>\n",
       "      <td>1</td>\n",
       "      <td>0.303538</td>\n",
       "    </tr>\n",
       "    <tr>\n",
       "      <th>2</th>\n",
       "      <td>2</td>\n",
       "      <td>0.552795</td>\n",
       "    </tr>\n",
       "    <tr>\n",
       "      <th>3</th>\n",
       "      <td>3</td>\n",
       "      <td>0.578431</td>\n",
       "    </tr>\n",
       "    <tr>\n",
       "      <th>4</th>\n",
       "      <td>4</td>\n",
       "      <td>0.724138</td>\n",
       "    </tr>\n",
       "  </tbody>\n",
       "</table>\n",
       "</div>"
      ],
      "text/plain": [
       "   Family  Survived\n",
       "0       0  0.161290\n",
       "1       1  0.303538\n",
       "2       2  0.552795\n",
       "3       3  0.578431\n",
       "4       4  0.724138"
      ]
     },
     "execution_count": 14,
     "metadata": {},
     "output_type": "execute_result"
    }
   ],
   "source": [
    "df.Family = df.Family.map(lambda x: 0 if x > 4 else x)\n",
    "df[['Family', 'Survived']].groupby(['Family'], as_index=False).mean()"
   ]
  },
  {
   "cell_type": "code",
   "execution_count": 15,
   "metadata": {},
   "outputs": [
    {
     "data": {
      "text/plain": [
       "1    790\n",
       "2    235\n",
       "3    159\n",
       "0     82\n",
       "4     43\n",
       "Name: Family, dtype: int64"
      ]
     },
     "execution_count": 15,
     "metadata": {},
     "output_type": "execute_result"
    }
   ],
   "source": [
    "df['Family'].value_counts()"
   ]
  },
  {
   "cell_type": "code",
   "execution_count": 16,
   "metadata": {},
   "outputs": [
    {
     "data": {
      "text/plain": [
       "0"
      ]
     },
     "execution_count": 16,
     "metadata": {},
     "output_type": "execute_result"
    }
   ],
   "source": [
    "# check if there is any NAN\n",
    "df.Ticket.isnull().sum(axis=0)"
   ]
  },
  {
   "cell_type": "code",
   "execution_count": 17,
   "metadata": {},
   "outputs": [
    {
     "data": {
      "text/plain": [
       "0            A/5 21171\n",
       "1             PC 17599\n",
       "2     STON/O2. 3101282\n",
       "3               113803\n",
       "4               373450\n",
       "5               330877\n",
       "6                17463\n",
       "7               349909\n",
       "8               347742\n",
       "9               237736\n",
       "10             PP 9549\n",
       "11              113783\n",
       "12           A/5. 2151\n",
       "13              347082\n",
       "14              350406\n",
       "15              248706\n",
       "16              382652\n",
       "17              244373\n",
       "18              345763\n",
       "19                2649\n",
       "Name: Ticket, dtype: object"
      ]
     },
     "execution_count": 17,
     "metadata": {},
     "output_type": "execute_result"
    }
   ],
   "source": [
    "df.Ticket.head(20)"
   ]
  },
  {
   "cell_type": "code",
   "execution_count": 18,
   "metadata": {},
   "outputs": [
    {
     "data": {
      "text/html": [
       "<div>\n",
       "<style scoped>\n",
       "    .dataframe tbody tr th:only-of-type {\n",
       "        vertical-align: middle;\n",
       "    }\n",
       "\n",
       "    .dataframe tbody tr th {\n",
       "        vertical-align: top;\n",
       "    }\n",
       "\n",
       "    .dataframe thead th {\n",
       "        text-align: right;\n",
       "    }\n",
       "</style>\n",
       "<table border=\"1\" class=\"dataframe\">\n",
       "  <thead>\n",
       "    <tr style=\"text-align: right;\">\n",
       "      <th></th>\n",
       "      <th>Ticket</th>\n",
       "      <th>Survived</th>\n",
       "    </tr>\n",
       "  </thead>\n",
       "  <tbody>\n",
       "    <tr>\n",
       "      <th>0</th>\n",
       "      <td>1</td>\n",
       "      <td>0.630137</td>\n",
       "    </tr>\n",
       "    <tr>\n",
       "      <th>1</th>\n",
       "      <td>2</td>\n",
       "      <td>0.464481</td>\n",
       "    </tr>\n",
       "    <tr>\n",
       "      <th>2</th>\n",
       "      <td>3</td>\n",
       "      <td>0.239203</td>\n",
       "    </tr>\n",
       "    <tr>\n",
       "      <th>3</th>\n",
       "      <td>4</td>\n",
       "      <td>0.200000</td>\n",
       "    </tr>\n",
       "    <tr>\n",
       "      <th>4</th>\n",
       "      <td>5</td>\n",
       "      <td>0.000000</td>\n",
       "    </tr>\n",
       "    <tr>\n",
       "      <th>5</th>\n",
       "      <td>6</td>\n",
       "      <td>0.166667</td>\n",
       "    </tr>\n",
       "    <tr>\n",
       "      <th>6</th>\n",
       "      <td>7</td>\n",
       "      <td>0.111111</td>\n",
       "    </tr>\n",
       "    <tr>\n",
       "      <th>7</th>\n",
       "      <td>8</td>\n",
       "      <td>0.000000</td>\n",
       "    </tr>\n",
       "    <tr>\n",
       "      <th>8</th>\n",
       "      <td>9</td>\n",
       "      <td>1.000000</td>\n",
       "    </tr>\n",
       "    <tr>\n",
       "      <th>9</th>\n",
       "      <td>A</td>\n",
       "      <td>0.068966</td>\n",
       "    </tr>\n",
       "    <tr>\n",
       "      <th>10</th>\n",
       "      <td>C</td>\n",
       "      <td>0.340426</td>\n",
       "    </tr>\n",
       "    <tr>\n",
       "      <th>11</th>\n",
       "      <td>F</td>\n",
       "      <td>0.571429</td>\n",
       "    </tr>\n",
       "    <tr>\n",
       "      <th>12</th>\n",
       "      <td>L</td>\n",
       "      <td>0.250000</td>\n",
       "    </tr>\n",
       "    <tr>\n",
       "      <th>13</th>\n",
       "      <td>P</td>\n",
       "      <td>0.646154</td>\n",
       "    </tr>\n",
       "    <tr>\n",
       "      <th>14</th>\n",
       "      <td>S</td>\n",
       "      <td>0.323077</td>\n",
       "    </tr>\n",
       "    <tr>\n",
       "      <th>15</th>\n",
       "      <td>W</td>\n",
       "      <td>0.153846</td>\n",
       "    </tr>\n",
       "  </tbody>\n",
       "</table>\n",
       "</div>"
      ],
      "text/plain": [
       "   Ticket  Survived\n",
       "0       1  0.630137\n",
       "1       2  0.464481\n",
       "2       3  0.239203\n",
       "3       4  0.200000\n",
       "4       5  0.000000\n",
       "5       6  0.166667\n",
       "6       7  0.111111\n",
       "7       8  0.000000\n",
       "8       9  1.000000\n",
       "9       A  0.068966\n",
       "10      C  0.340426\n",
       "11      F  0.571429\n",
       "12      L  0.250000\n",
       "13      P  0.646154\n",
       "14      S  0.323077\n",
       "15      W  0.153846"
      ]
     },
     "execution_count": 18,
     "metadata": {},
     "output_type": "execute_result"
    }
   ],
   "source": [
    "df.Ticket = df.Ticket.map(lambda x: x[0])\n",
    "\n",
    "# inspect the correlation between Ticket and Survived\n",
    "df[['Ticket', 'Survived']].groupby(['Ticket'], as_index=False).mean()"
   ]
  },
  {
   "cell_type": "code",
   "execution_count": 19,
   "metadata": {},
   "outputs": [
    {
     "data": {
      "text/plain": [
       "3    429\n",
       "2    278\n",
       "1    210\n",
       "P     98\n",
       "S     98\n",
       "C     77\n",
       "A     42\n",
       "W     19\n",
       "7     13\n",
       "F     13\n",
       "4     11\n",
       "6      9\n",
       "L      5\n",
       "5      3\n",
       "9      2\n",
       "8      2\n",
       "Name: Ticket, dtype: int64"
      ]
     },
     "execution_count": 19,
     "metadata": {},
     "output_type": "execute_result"
    }
   ],
   "source": [
    "# inspect the amount of people for each type of tickets\n",
    "df['Ticket'].value_counts()"
   ]
  },
  {
   "cell_type": "code",
   "execution_count": 20,
   "metadata": {},
   "outputs": [
    {
     "data": {
      "text/html": [
       "<div>\n",
       "<style scoped>\n",
       "    .dataframe tbody tr th:only-of-type {\n",
       "        vertical-align: middle;\n",
       "    }\n",
       "\n",
       "    .dataframe tbody tr th {\n",
       "        vertical-align: top;\n",
       "    }\n",
       "\n",
       "    .dataframe thead th {\n",
       "        text-align: right;\n",
       "    }\n",
       "</style>\n",
       "<table border=\"1\" class=\"dataframe\">\n",
       "  <thead>\n",
       "    <tr style=\"text-align: right;\">\n",
       "      <th></th>\n",
       "      <th>Ticket</th>\n",
       "      <th>Fare</th>\n",
       "    </tr>\n",
       "  </thead>\n",
       "  <tbody>\n",
       "    <tr>\n",
       "      <th>0</th>\n",
       "      <td>1</td>\n",
       "      <td>65.771211</td>\n",
       "    </tr>\n",
       "    <tr>\n",
       "      <th>1</th>\n",
       "      <td>2</td>\n",
       "      <td>20.235194</td>\n",
       "    </tr>\n",
       "    <tr>\n",
       "      <th>2</th>\n",
       "      <td>3</td>\n",
       "      <td>15.380682</td>\n",
       "    </tr>\n",
       "    <tr>\n",
       "      <th>3</th>\n",
       "      <td>4</td>\n",
       "      <td>16.764036</td>\n",
       "    </tr>\n",
       "    <tr>\n",
       "      <th>4</th>\n",
       "      <td>5</td>\n",
       "      <td>19.262500</td>\n",
       "    </tr>\n",
       "    <tr>\n",
       "      <th>5</th>\n",
       "      <td>6</td>\n",
       "      <td>19.153711</td>\n",
       "    </tr>\n",
       "    <tr>\n",
       "      <th>6</th>\n",
       "      <td>7</td>\n",
       "      <td>9.197438</td>\n",
       "    </tr>\n",
       "    <tr>\n",
       "      <th>7</th>\n",
       "      <td>8</td>\n",
       "      <td>8.397900</td>\n",
       "    </tr>\n",
       "    <tr>\n",
       "      <th>8</th>\n",
       "      <td>9</td>\n",
       "      <td>7.750000</td>\n",
       "    </tr>\n",
       "    <tr>\n",
       "      <th>9</th>\n",
       "      <td>A</td>\n",
       "      <td>10.189681</td>\n",
       "    </tr>\n",
       "    <tr>\n",
       "      <th>10</th>\n",
       "      <td>C</td>\n",
       "      <td>28.152273</td>\n",
       "    </tr>\n",
       "    <tr>\n",
       "      <th>11</th>\n",
       "      <td>F</td>\n",
       "      <td>24.677246</td>\n",
       "    </tr>\n",
       "    <tr>\n",
       "      <th>12</th>\n",
       "      <td>L</td>\n",
       "      <td>1.515000</td>\n",
       "    </tr>\n",
       "    <tr>\n",
       "      <th>13</th>\n",
       "      <td>P</td>\n",
       "      <td>119.698253</td>\n",
       "    </tr>\n",
       "    <tr>\n",
       "      <th>14</th>\n",
       "      <td>S</td>\n",
       "      <td>17.542900</td>\n",
       "    </tr>\n",
       "    <tr>\n",
       "      <th>15</th>\n",
       "      <td>W</td>\n",
       "      <td>31.056579</td>\n",
       "    </tr>\n",
       "  </tbody>\n",
       "</table>\n",
       "</div>"
      ],
      "text/plain": [
       "   Ticket        Fare\n",
       "0       1   65.771211\n",
       "1       2   20.235194\n",
       "2       3   15.380682\n",
       "3       4   16.764036\n",
       "4       5   19.262500\n",
       "5       6   19.153711\n",
       "6       7    9.197438\n",
       "7       8    8.397900\n",
       "8       9    7.750000\n",
       "9       A   10.189681\n",
       "10      C   28.152273\n",
       "11      F   24.677246\n",
       "12      L    1.515000\n",
       "13      P  119.698253\n",
       "14      S   17.542900\n",
       "15      W   31.056579"
      ]
     },
     "execution_count": 20,
     "metadata": {},
     "output_type": "execute_result"
    }
   ],
   "source": [
    "df[['Ticket', 'Fare']].groupby(['Ticket'], as_index=False).mean()"
   ]
  },
  {
   "cell_type": "code",
   "execution_count": 21,
   "metadata": {},
   "outputs": [
    {
     "data": {
      "text/html": [
       "<div>\n",
       "<style scoped>\n",
       "    .dataframe tbody tr th:only-of-type {\n",
       "        vertical-align: middle;\n",
       "    }\n",
       "\n",
       "    .dataframe tbody tr th {\n",
       "        vertical-align: top;\n",
       "    }\n",
       "\n",
       "    .dataframe thead th {\n",
       "        text-align: right;\n",
       "    }\n",
       "</style>\n",
       "<table border=\"1\" class=\"dataframe\">\n",
       "  <thead>\n",
       "    <tr style=\"text-align: right;\">\n",
       "      <th></th>\n",
       "      <th>Ticket</th>\n",
       "      <th>Pclass</th>\n",
       "    </tr>\n",
       "  </thead>\n",
       "  <tbody>\n",
       "    <tr>\n",
       "      <th>0</th>\n",
       "      <td>1</td>\n",
       "      <td>1.147619</td>\n",
       "    </tr>\n",
       "    <tr>\n",
       "      <th>1</th>\n",
       "      <td>2</td>\n",
       "      <td>2.309353</td>\n",
       "    </tr>\n",
       "    <tr>\n",
       "      <th>2</th>\n",
       "      <td>3</td>\n",
       "      <td>2.904429</td>\n",
       "    </tr>\n",
       "    <tr>\n",
       "      <th>3</th>\n",
       "      <td>4</td>\n",
       "      <td>3.000000</td>\n",
       "    </tr>\n",
       "    <tr>\n",
       "      <th>4</th>\n",
       "      <td>5</td>\n",
       "      <td>2.333333</td>\n",
       "    </tr>\n",
       "    <tr>\n",
       "      <th>5</th>\n",
       "      <td>6</td>\n",
       "      <td>2.111111</td>\n",
       "    </tr>\n",
       "    <tr>\n",
       "      <th>6</th>\n",
       "      <td>7</td>\n",
       "      <td>3.000000</td>\n",
       "    </tr>\n",
       "    <tr>\n",
       "      <th>7</th>\n",
       "      <td>8</td>\n",
       "      <td>3.000000</td>\n",
       "    </tr>\n",
       "    <tr>\n",
       "      <th>8</th>\n",
       "      <td>9</td>\n",
       "      <td>3.000000</td>\n",
       "    </tr>\n",
       "    <tr>\n",
       "      <th>9</th>\n",
       "      <td>A</td>\n",
       "      <td>3.000000</td>\n",
       "    </tr>\n",
       "    <tr>\n",
       "      <th>10</th>\n",
       "      <td>C</td>\n",
       "      <td>2.558442</td>\n",
       "    </tr>\n",
       "    <tr>\n",
       "      <th>11</th>\n",
       "      <td>F</td>\n",
       "      <td>1.846154</td>\n",
       "    </tr>\n",
       "    <tr>\n",
       "      <th>12</th>\n",
       "      <td>L</td>\n",
       "      <td>3.000000</td>\n",
       "    </tr>\n",
       "    <tr>\n",
       "      <th>13</th>\n",
       "      <td>P</td>\n",
       "      <td>1.102041</td>\n",
       "    </tr>\n",
       "    <tr>\n",
       "      <th>14</th>\n",
       "      <td>S</td>\n",
       "      <td>2.561224</td>\n",
       "    </tr>\n",
       "    <tr>\n",
       "      <th>15</th>\n",
       "      <td>W</td>\n",
       "      <td>2.315789</td>\n",
       "    </tr>\n",
       "  </tbody>\n",
       "</table>\n",
       "</div>"
      ],
      "text/plain": [
       "   Ticket    Pclass\n",
       "0       1  1.147619\n",
       "1       2  2.309353\n",
       "2       3  2.904429\n",
       "3       4  3.000000\n",
       "4       5  2.333333\n",
       "5       6  2.111111\n",
       "6       7  3.000000\n",
       "7       8  3.000000\n",
       "8       9  3.000000\n",
       "9       A  3.000000\n",
       "10      C  2.558442\n",
       "11      F  1.846154\n",
       "12      L  3.000000\n",
       "13      P  1.102041\n",
       "14      S  2.561224\n",
       "15      W  2.315789"
      ]
     },
     "execution_count": 21,
     "metadata": {},
     "output_type": "execute_result"
    }
   ],
   "source": [
    "df[['Ticket', 'Pclass']].groupby(['Ticket'], as_index=False).mean()"
   ]
  },
  {
   "cell_type": "code",
   "execution_count": 22,
   "metadata": {},
   "outputs": [
    {
     "data": {
      "text/plain": [
       "1"
      ]
     },
     "execution_count": 22,
     "metadata": {},
     "output_type": "execute_result"
    }
   ],
   "source": [
    "# check if there is any NAN\n",
    "df.Fare.isnull().sum(axis=0)"
   ]
  },
  {
   "cell_type": "code",
   "execution_count": 23,
   "metadata": {},
   "outputs": [
    {
     "data": {
      "text/plain": [
       "1043    3\n",
       "Name: Ticket, dtype: object"
      ]
     },
     "execution_count": 23,
     "metadata": {},
     "output_type": "execute_result"
    }
   ],
   "source": [
    "df.Ticket[df.Fare.isnull()]"
   ]
  },
  {
   "cell_type": "code",
   "execution_count": 24,
   "metadata": {},
   "outputs": [
    {
     "data": {
      "text/plain": [
       "1043    3\n",
       "Name: Pclass, dtype: int64"
      ]
     },
     "execution_count": 24,
     "metadata": {},
     "output_type": "execute_result"
    }
   ],
   "source": [
    "df.Pclass[df.Fare.isnull()]"
   ]
  },
  {
   "cell_type": "code",
   "execution_count": 25,
   "metadata": {},
   "outputs": [
    {
     "data": {
      "text/plain": [
       "1043    NaN\n",
       "Name: Cabin, dtype: object"
      ]
     },
     "execution_count": 25,
     "metadata": {},
     "output_type": "execute_result"
    }
   ],
   "source": [
    "df.Cabin[df.Fare.isnull()]"
   ]
  },
  {
   "cell_type": "code",
   "execution_count": 26,
   "metadata": {},
   "outputs": [
    {
     "data": {
      "text/plain": [
       "1043    S\n",
       "Name: Embarked, dtype: object"
      ]
     },
     "execution_count": 26,
     "metadata": {},
     "output_type": "execute_result"
    }
   ],
   "source": [
    "df.Embarked[df.Fare.isnull()]"
   ]
  },
  {
   "cell_type": "code",
   "execution_count": 27,
   "metadata": {},
   "outputs": [
    {
     "data": {
      "image/png": "[encoded data removed]",
      "text/plain": [
       "<Figure size 432x288 with 1 Axes>"
      ]
     },
     "metadata": {
      "needs_background": "light"
     },
     "output_type": "display_data"
    }
   ],
   "source": [
    "# use boxplot to visualize the distribution of Fare for each Pclass\n",
    "sns.boxplot('Pclass','Fare',data=df)\n",
    "plt.ylim(0, 300) # ignore one data point with Fare > 500\n",
    "plt.show()"
   ]
  },
  {
   "cell_type": "code",
   "execution_count": 28,
   "metadata": {},
   "outputs": [
    {
     "data": {
      "text/html": [
       "<div>\n",
       "<style scoped>\n",
       "    .dataframe tbody tr th:only-of-type {\n",
       "        vertical-align: middle;\n",
       "    }\n",
       "\n",
       "    .dataframe tbody tr th {\n",
       "        vertical-align: top;\n",
       "    }\n",
       "\n",
       "    .dataframe thead th {\n",
       "        text-align: right;\n",
       "    }\n",
       "</style>\n",
       "<table border=\"1\" class=\"dataframe\">\n",
       "  <thead>\n",
       "    <tr style=\"text-align: right;\">\n",
       "      <th></th>\n",
       "      <th>Fare</th>\n",
       "    </tr>\n",
       "    <tr>\n",
       "      <th>Pclass</th>\n",
       "      <th></th>\n",
       "    </tr>\n",
       "  </thead>\n",
       "  <tbody>\n",
       "    <tr>\n",
       "      <th>1</th>\n",
       "      <td>87.508992</td>\n",
       "    </tr>\n",
       "    <tr>\n",
       "      <th>2</th>\n",
       "      <td>21.179196</td>\n",
       "    </tr>\n",
       "    <tr>\n",
       "      <th>3</th>\n",
       "      <td>13.302889</td>\n",
       "    </tr>\n",
       "  </tbody>\n",
       "</table>\n",
       "</div>"
      ],
      "text/plain": [
       "             Fare\n",
       "Pclass           \n",
       "1       87.508992\n",
       "2       21.179196\n",
       "3       13.302889"
      ]
     },
     "execution_count": 28,
     "metadata": {},
     "output_type": "execute_result"
    }
   ],
   "source": [
    "# inspect the correlation between Pclass and Fare\n",
    "df[['Pclass', 'Fare']].groupby(['Pclass']).mean()"
   ]
  },
  {
   "cell_type": "code",
   "execution_count": 29,
   "metadata": {},
   "outputs": [
    {
     "data": {
      "text/html": [
       "<div>\n",
       "<style scoped>\n",
       "    .dataframe tbody tr th:only-of-type {\n",
       "        vertical-align: middle;\n",
       "    }\n",
       "\n",
       "    .dataframe tbody tr th {\n",
       "        vertical-align: top;\n",
       "    }\n",
       "\n",
       "    .dataframe thead th {\n",
       "        text-align: right;\n",
       "    }\n",
       "</style>\n",
       "<table border=\"1\" class=\"dataframe\">\n",
       "  <thead>\n",
       "    <tr style=\"text-align: right;\">\n",
       "      <th></th>\n",
       "      <th>Fare</th>\n",
       "    </tr>\n",
       "    <tr>\n",
       "      <th>Pclass</th>\n",
       "      <th></th>\n",
       "    </tr>\n",
       "  </thead>\n",
       "  <tbody>\n",
       "    <tr>\n",
       "      <th>1</th>\n",
       "      <td>0.919302</td>\n",
       "    </tr>\n",
       "    <tr>\n",
       "      <th>2</th>\n",
       "      <td>0.642476</td>\n",
       "    </tr>\n",
       "    <tr>\n",
       "      <th>3</th>\n",
       "      <td>0.864050</td>\n",
       "    </tr>\n",
       "  </tbody>\n",
       "</table>\n",
       "</div>"
      ],
      "text/plain": [
       "            Fare\n",
       "Pclass          \n",
       "1       0.919302\n",
       "2       0.642476\n",
       "3       0.864050"
      ]
     },
     "execution_count": 29,
     "metadata": {},
     "output_type": "execute_result"
    }
   ],
   "source": [
    "# divide the standard deviation by the mean. A lower ratio means a tighter \n",
    "# distribution of Fare in each Pclass\n",
    "df[['Pclass', 'Fare']].groupby(['Pclass']).std() / df[['Pclass', 'Fare']].groupby(['Pclass']).mean()"
   ]
  },
  {
   "cell_type": "code",
   "execution_count": 30,
   "metadata": {},
   "outputs": [
    {
     "data": {
      "image/png": "[encoded data removed]",
      "text/plain": [
       "<Figure size 432x288 with 1 Axes>"
      ]
     },
     "metadata": {
      "needs_background": "light"
     },
     "output_type": "display_data"
    }
   ],
   "source": [
    "# use boxplot to visualize the distribution of Fare for each Ticket\n",
    "sns.boxplot('Ticket','Fare',data=df)\n",
    "plt.ylim(0, 300) # ignore one data point with Fare > 500\n",
    "plt.show()"
   ]
  },
  {
   "cell_type": "code",
   "execution_count": 31,
   "metadata": {},
   "outputs": [
    {
     "data": {
      "text/html": [
       "<div>\n",
       "<style scoped>\n",
       "    .dataframe tbody tr th:only-of-type {\n",
       "        vertical-align: middle;\n",
       "    }\n",
       "\n",
       "    .dataframe tbody tr th {\n",
       "        vertical-align: top;\n",
       "    }\n",
       "\n",
       "    .dataframe thead th {\n",
       "        text-align: right;\n",
       "    }\n",
       "</style>\n",
       "<table border=\"1\" class=\"dataframe\">\n",
       "  <thead>\n",
       "    <tr style=\"text-align: right;\">\n",
       "      <th></th>\n",
       "      <th>Fare</th>\n",
       "    </tr>\n",
       "    <tr>\n",
       "      <th>Ticket</th>\n",
       "      <th></th>\n",
       "    </tr>\n",
       "  </thead>\n",
       "  <tbody>\n",
       "    <tr>\n",
       "      <th>1</th>\n",
       "      <td>65.771211</td>\n",
       "    </tr>\n",
       "    <tr>\n",
       "      <th>2</th>\n",
       "      <td>20.235194</td>\n",
       "    </tr>\n",
       "    <tr>\n",
       "      <th>3</th>\n",
       "      <td>15.380682</td>\n",
       "    </tr>\n",
       "    <tr>\n",
       "      <th>4</th>\n",
       "      <td>16.764036</td>\n",
       "    </tr>\n",
       "    <tr>\n",
       "      <th>5</th>\n",
       "      <td>19.262500</td>\n",
       "    </tr>\n",
       "    <tr>\n",
       "      <th>6</th>\n",
       "      <td>19.153711</td>\n",
       "    </tr>\n",
       "    <tr>\n",
       "      <th>7</th>\n",
       "      <td>9.197438</td>\n",
       "    </tr>\n",
       "    <tr>\n",
       "      <th>8</th>\n",
       "      <td>8.397900</td>\n",
       "    </tr>\n",
       "    <tr>\n",
       "      <th>9</th>\n",
       "      <td>7.750000</td>\n",
       "    </tr>\n",
       "    <tr>\n",
       "      <th>A</th>\n",
       "      <td>10.189681</td>\n",
       "    </tr>\n",
       "    <tr>\n",
       "      <th>C</th>\n",
       "      <td>28.152273</td>\n",
       "    </tr>\n",
       "    <tr>\n",
       "      <th>F</th>\n",
       "      <td>24.677246</td>\n",
       "    </tr>\n",
       "    <tr>\n",
       "      <th>L</th>\n",
       "      <td>1.515000</td>\n",
       "    </tr>\n",
       "    <tr>\n",
       "      <th>P</th>\n",
       "      <td>119.698253</td>\n",
       "    </tr>\n",
       "    <tr>\n",
       "      <th>S</th>\n",
       "      <td>17.542900</td>\n",
       "    </tr>\n",
       "    <tr>\n",
       "      <th>W</th>\n",
       "      <td>31.056579</td>\n",
       "    </tr>\n",
       "  </tbody>\n",
       "</table>\n",
       "</div>"
      ],
      "text/plain": [
       "              Fare\n",
       "Ticket            \n",
       "1        65.771211\n",
       "2        20.235194\n",
       "3        15.380682\n",
       "4        16.764036\n",
       "5        19.262500\n",
       "6        19.153711\n",
       "7         9.197438\n",
       "8         8.397900\n",
       "9         7.750000\n",
       "A        10.189681\n",
       "C        28.152273\n",
       "F        24.677246\n",
       "L         1.515000\n",
       "P       119.698253\n",
       "S        17.542900\n",
       "W        31.056579"
      ]
     },
     "execution_count": 31,
     "metadata": {},
     "output_type": "execute_result"
    }
   ],
   "source": [
    "# inspect the correlation between Ticket and Fare \n",
    "# (we saw this earlier)\n",
    "df[['Ticket', 'Fare']].groupby(['Ticket']).mean()"
   ]
  },
  {
   "cell_type": "code",
   "execution_count": 32,
   "metadata": {},
   "outputs": [
    {
     "data": {
      "text/html": [
       "<div>\n",
       "<style scoped>\n",
       "    .dataframe tbody tr th:only-of-type {\n",
       "        vertical-align: middle;\n",
       "    }\n",
       "\n",
       "    .dataframe tbody tr th {\n",
       "        vertical-align: top;\n",
       "    }\n",
       "\n",
       "    .dataframe thead th {\n",
       "        text-align: right;\n",
       "    }\n",
       "</style>\n",
       "<table border=\"1\" class=\"dataframe\">\n",
       "  <thead>\n",
       "    <tr style=\"text-align: right;\">\n",
       "      <th></th>\n",
       "      <th>Fare</th>\n",
       "    </tr>\n",
       "    <tr>\n",
       "      <th>Ticket</th>\n",
       "      <th></th>\n",
       "    </tr>\n",
       "  </thead>\n",
       "  <tbody>\n",
       "    <tr>\n",
       "      <th>1</th>\n",
       "      <td>0.817411</td>\n",
       "    </tr>\n",
       "    <tr>\n",
       "      <th>2</th>\n",
       "      <td>1.284139</td>\n",
       "    </tr>\n",
       "    <tr>\n",
       "      <th>3</th>\n",
       "      <td>1.351244</td>\n",
       "    </tr>\n",
       "    <tr>\n",
       "      <th>4</th>\n",
       "      <td>0.497578</td>\n",
       "    </tr>\n",
       "    <tr>\n",
       "      <th>5</th>\n",
       "      <td>0.284367</td>\n",
       "    </tr>\n",
       "    <tr>\n",
       "      <th>6</th>\n",
       "      <td>0.735873</td>\n",
       "    </tr>\n",
       "    <tr>\n",
       "      <th>7</th>\n",
       "      <td>0.080078</td>\n",
       "    </tr>\n",
       "    <tr>\n",
       "      <th>8</th>\n",
       "      <td>0.005961</td>\n",
       "    </tr>\n",
       "    <tr>\n",
       "      <th>9</th>\n",
       "      <td>0.000000</td>\n",
       "    </tr>\n",
       "    <tr>\n",
       "      <th>A</th>\n",
       "      <td>0.466846</td>\n",
       "    </tr>\n",
       "    <tr>\n",
       "      <th>C</th>\n",
       "      <td>0.736299</td>\n",
       "    </tr>\n",
       "    <tr>\n",
       "      <th>F</th>\n",
       "      <td>0.556023</td>\n",
       "    </tr>\n",
       "    <tr>\n",
       "      <th>L</th>\n",
       "      <td>2.236068</td>\n",
       "    </tr>\n",
       "    <tr>\n",
       "      <th>P</th>\n",
       "      <td>0.944596</td>\n",
       "    </tr>\n",
       "    <tr>\n",
       "      <th>S</th>\n",
       "      <td>1.024639</td>\n",
       "    </tr>\n",
       "    <tr>\n",
       "      <th>W</th>\n",
       "      <td>0.676999</td>\n",
       "    </tr>\n",
       "  </tbody>\n",
       "</table>\n",
       "</div>"
      ],
      "text/plain": [
       "            Fare\n",
       "Ticket          \n",
       "1       0.817411\n",
       "2       1.284139\n",
       "3       1.351244\n",
       "4       0.497578\n",
       "5       0.284367\n",
       "6       0.735873\n",
       "7       0.080078\n",
       "8       0.005961\n",
       "9       0.000000\n",
       "A       0.466846\n",
       "C       0.736299\n",
       "F       0.556023\n",
       "L       2.236068\n",
       "P       0.944596\n",
       "S       1.024639\n",
       "W       0.676999"
      ]
     },
     "execution_count": 32,
     "metadata": {},
     "output_type": "execute_result"
    }
   ],
   "source": [
    "# divide the standard deviation by the mean. A lower ratio means a tighter \n",
    "# distribution of Fare in each Ticket type\n",
    "df[['Ticket', 'Fare']].groupby(['Ticket']).std() /  df[['Ticket', 'Fare']].groupby(['Ticket']).mean()"
   ]
  },
  {
   "cell_type": "code",
   "execution_count": 33,
   "metadata": {},
   "outputs": [
    {
     "data": {
      "image/png": "[encoded data removed]",
      "text/plain": [
       "<Figure size 432x288 with 1 Axes>"
      ]
     },
     "metadata": {
      "needs_background": "light"
     },
     "output_type": "display_data"
    }
   ],
   "source": [
    "# use boxplot to visualize the distribution of Fare for each Embarked\n",
    "sns.boxplot('Embarked','Fare',data=df)\n",
    "plt.ylim(0, 300) # ignore one data point with Fare > 500\n",
    "plt.show()"
   ]
  },
  {
   "cell_type": "code",
   "execution_count": 34,
   "metadata": {},
   "outputs": [
    {
     "data": {
      "text/html": [
       "<div>\n",
       "<style scoped>\n",
       "    .dataframe tbody tr th:only-of-type {\n",
       "        vertical-align: middle;\n",
       "    }\n",
       "\n",
       "    .dataframe tbody tr th {\n",
       "        vertical-align: top;\n",
       "    }\n",
       "\n",
       "    .dataframe thead th {\n",
       "        text-align: right;\n",
       "    }\n",
       "</style>\n",
       "<table border=\"1\" class=\"dataframe\">\n",
       "  <thead>\n",
       "    <tr style=\"text-align: right;\">\n",
       "      <th></th>\n",
       "      <th>Fare</th>\n",
       "    </tr>\n",
       "    <tr>\n",
       "      <th>Embarked</th>\n",
       "      <th></th>\n",
       "    </tr>\n",
       "  </thead>\n",
       "  <tbody>\n",
       "    <tr>\n",
       "      <th>C</th>\n",
       "      <td>62.336267</td>\n",
       "    </tr>\n",
       "    <tr>\n",
       "      <th>Q</th>\n",
       "      <td>12.409012</td>\n",
       "    </tr>\n",
       "    <tr>\n",
       "      <th>S</th>\n",
       "      <td>27.418824</td>\n",
       "    </tr>\n",
       "  </tbody>\n",
       "</table>\n",
       "</div>"
      ],
      "text/plain": [
       "               Fare\n",
       "Embarked           \n",
       "C         62.336267\n",
       "Q         12.409012\n",
       "S         27.418824"
      ]
     },
     "execution_count": 34,
     "metadata": {},
     "output_type": "execute_result"
    }
   ],
   "source": [
    "# inspect the correlation between Embarked and Fare\n",
    "df[['Embarked', 'Fare']].groupby(['Embarked']).mean()"
   ]
  },
  {
   "cell_type": "code",
   "execution_count": 35,
   "metadata": {},
   "outputs": [
    {
     "data": {
      "text/html": [
       "<div>\n",
       "<style scoped>\n",
       "    .dataframe tbody tr th:only-of-type {\n",
       "        vertical-align: middle;\n",
       "    }\n",
       "\n",
       "    .dataframe tbody tr th {\n",
       "        vertical-align: top;\n",
       "    }\n",
       "\n",
       "    .dataframe thead th {\n",
       "        text-align: right;\n",
       "    }\n",
       "</style>\n",
       "<table border=\"1\" class=\"dataframe\">\n",
       "  <thead>\n",
       "    <tr style=\"text-align: right;\">\n",
       "      <th></th>\n",
       "      <th>Fare</th>\n",
       "    </tr>\n",
       "    <tr>\n",
       "      <th>Embarked</th>\n",
       "      <th></th>\n",
       "    </tr>\n",
       "  </thead>\n",
       "  <tbody>\n",
       "    <tr>\n",
       "      <th>C</th>\n",
       "      <td>1.350514</td>\n",
       "    </tr>\n",
       "    <tr>\n",
       "      <th>Q</th>\n",
       "      <td>1.097278</td>\n",
       "    </tr>\n",
       "    <tr>\n",
       "      <th>S</th>\n",
       "      <td>1.352954</td>\n",
       "    </tr>\n",
       "  </tbody>\n",
       "</table>\n",
       "</div>"
      ],
      "text/plain": [
       "              Fare\n",
       "Embarked          \n",
       "C         1.350514\n",
       "Q         1.097278\n",
       "S         1.352954"
      ]
     },
     "execution_count": 35,
     "metadata": {},
     "output_type": "execute_result"
    }
   ],
   "source": [
    "# divide the standard deviation by the mean. A lower ratio means a tighter \n",
    "# distribution of Fare in each Embarked\n",
    "df[['Embarked', 'Fare']].groupby(['Embarked']).std() /  df[['Embarked', 'Fare']].groupby(['Embarked']).mean()"
   ]
  },
  {
   "cell_type": "code",
   "execution_count": 36,
   "metadata": {},
   "outputs": [
    {
     "data": {
      "text/html": [
       "<div>\n",
       "<style scoped>\n",
       "    .dataframe tbody tr th:only-of-type {\n",
       "        vertical-align: middle;\n",
       "    }\n",
       "\n",
       "    .dataframe tbody tr th {\n",
       "        vertical-align: top;\n",
       "    }\n",
       "\n",
       "    .dataframe thead th {\n",
       "        text-align: right;\n",
       "    }\n",
       "</style>\n",
       "<table border=\"1\" class=\"dataframe\">\n",
       "  <thead>\n",
       "    <tr style=\"text-align: right;\">\n",
       "      <th></th>\n",
       "      <th>Survived</th>\n",
       "      <th>Fare</th>\n",
       "    </tr>\n",
       "  </thead>\n",
       "  <tbody>\n",
       "    <tr>\n",
       "      <th>0</th>\n",
       "      <td>0.0</td>\n",
       "      <td>22.117887</td>\n",
       "    </tr>\n",
       "    <tr>\n",
       "      <th>1</th>\n",
       "      <td>1.0</td>\n",
       "      <td>48.395408</td>\n",
       "    </tr>\n",
       "  </tbody>\n",
       "</table>\n",
       "</div>"
      ],
      "text/plain": [
       "   Survived       Fare\n",
       "0       0.0  22.117887\n",
       "1       1.0  48.395408"
      ]
     },
     "execution_count": 36,
     "metadata": {},
     "output_type": "execute_result"
    }
   ],
   "source": [
    "guess_Fare = df.Fare.loc[ (df.Ticket == '3') & (df.Pclass == 3) & (df.Embarked == 'S')].median()\n",
    "df.Fare.fillna(guess_Fare , inplace=True)\n",
    "\n",
    "# inspect the mean Fare values for people who died and survived\n",
    "df[['Fare', 'Survived']].groupby(['Survived'],as_index=False).mean()"
   ]
  },
  {
   "cell_type": "code",
   "execution_count": 37,
   "metadata": {},
   "outputs": [
    {
     "name": "stderr",
     "output_type": "stream",
     "text": [
      "S:\\Anaconda\\lib\\site-packages\\seaborn\\axisgrid.py:243: UserWarning: The `size` parameter has been renamed to `height`; please update your code.\n",
      "  warnings.warn(msg, UserWarning)\n"
     ]
    },
    {
     "data": {
      "image/png": "[encoded data removed]",
      "text/plain": [
       "<Figure size 484x288 with 1 Axes>"
      ]
     },
     "metadata": {
      "needs_background": "light"
     },
     "output_type": "display_data"
    }
   ],
   "source": [
    "# visualize the distribution of Fare for people who survived and died\n",
    "grid = sns.FacetGrid(df, hue='Survived', size=4, aspect=1.5)\n",
    "grid.map(plt.hist, 'Fare', alpha=.5, bins=range(0,210,10))\n",
    "grid.add_legend()\n",
    "plt.show()"
   ]
  },
  {
   "cell_type": "code",
   "execution_count": 38,
   "metadata": {},
   "outputs": [
    {
     "data": {
      "image/png": "[encoded data removed]",
      "text/plain": [
       "<Figure size 432x288 with 1 Axes>"
      ]
     },
     "metadata": {
      "needs_background": "light"
     },
     "output_type": "display_data"
    }
   ],
   "source": [
    "# visualize the correlation between Fare and Survived using a scatter plot\n",
    "df[['Fare', 'Survived']].groupby(['Fare'],as_index=False).mean().plot.scatter('Fare','Survived')\n",
    "plt.show()"
   ]
  },
  {
   "cell_type": "code",
   "execution_count": 39,
   "metadata": {},
   "outputs": [
    {
     "data": {
      "text/html": [
       "<div>\n",
       "<style scoped>\n",
       "    .dataframe tbody tr th:only-of-type {\n",
       "        vertical-align: middle;\n",
       "    }\n",
       "\n",
       "    .dataframe tbody tr th {\n",
       "        vertical-align: top;\n",
       "    }\n",
       "\n",
       "    .dataframe thead th {\n",
       "        text-align: right;\n",
       "    }\n",
       "</style>\n",
       "<table border=\"1\" class=\"dataframe\">\n",
       "  <thead>\n",
       "    <tr style=\"text-align: right;\">\n",
       "      <th></th>\n",
       "      <th>Fare-bin</th>\n",
       "      <th>Survived</th>\n",
       "    </tr>\n",
       "  </thead>\n",
       "  <tbody>\n",
       "    <tr>\n",
       "      <th>0</th>\n",
       "      <td>1</td>\n",
       "      <td>0.217877</td>\n",
       "    </tr>\n",
       "    <tr>\n",
       "      <th>1</th>\n",
       "      <td>2</td>\n",
       "      <td>0.201087</td>\n",
       "    </tr>\n",
       "    <tr>\n",
       "      <th>2</th>\n",
       "      <td>3</td>\n",
       "      <td>0.426901</td>\n",
       "    </tr>\n",
       "    <tr>\n",
       "      <th>3</th>\n",
       "      <td>4</td>\n",
       "      <td>0.443243</td>\n",
       "    </tr>\n",
       "    <tr>\n",
       "      <th>4</th>\n",
       "      <td>5</td>\n",
       "      <td>0.645349</td>\n",
       "    </tr>\n",
       "  </tbody>\n",
       "</table>\n",
       "</div>"
      ],
      "text/plain": [
       "   Fare-bin  Survived\n",
       "0         1  0.217877\n",
       "1         2  0.201087\n",
       "2         3  0.426901\n",
       "3         4  0.443243\n",
       "4         5  0.645349"
      ]
     },
     "execution_count": 39,
     "metadata": {},
     "output_type": "execute_result"
    }
   ],
   "source": [
    "# bin Fare into five intervals with equal amount of people\n",
    "df['Fare-bin'] = pd.qcut(df.Fare,5,labels=[1,2,3,4,5]).astype(int)\n",
    "\n",
    "# inspect the correlation between Fare-bin and Survived\n",
    "df[['Fare-bin', 'Survived']].groupby(['Fare-bin'], as_index=False).mean()"
   ]
  },
  {
   "cell_type": "code",
   "execution_count": 40,
   "metadata": {},
   "outputs": [
    {
     "data": {
      "text/plain": [
       "1014"
      ]
     },
     "execution_count": 40,
     "metadata": {},
     "output_type": "execute_result"
    }
   ],
   "source": [
    "# check if there is any NAN\n",
    "df.Cabin.isnull().sum(axis=0)"
   ]
  },
  {
   "cell_type": "code",
   "execution_count": 41,
   "metadata": {},
   "outputs": [],
   "source": [
    "df = df.drop(labels=['Cabin'], axis=1)"
   ]
  },
  {
   "cell_type": "code",
   "execution_count": 42,
   "metadata": {},
   "outputs": [
    {
     "data": {
      "text/plain": [
       "2"
      ]
     },
     "execution_count": 42,
     "metadata": {},
     "output_type": "execute_result"
    }
   ],
   "source": [
    "# check if there is any NAN\n",
    "df.Embarked.isnull().sum(axis=0)"
   ]
  },
  {
   "cell_type": "code",
   "execution_count": 43,
   "metadata": {},
   "outputs": [
    {
     "data": {
      "text/html": [
       "<div>\n",
       "<style scoped>\n",
       "    .dataframe tbody tr th:only-of-type {\n",
       "        vertical-align: middle;\n",
       "    }\n",
       "\n",
       "    .dataframe tbody tr th {\n",
       "        vertical-align: top;\n",
       "    }\n",
       "\n",
       "    .dataframe thead th {\n",
       "        text-align: right;\n",
       "    }\n",
       "</style>\n",
       "<table border=\"1\" class=\"dataframe\">\n",
       "  <thead>\n",
       "    <tr style=\"text-align: right;\">\n",
       "      <th></th>\n",
       "      <th>Ticket</th>\n",
       "      <th>Embarked</th>\n",
       "      <th>Title</th>\n",
       "    </tr>\n",
       "  </thead>\n",
       "  <tbody>\n",
       "    <tr>\n",
       "      <th>count</th>\n",
       "      <td>1309</td>\n",
       "      <td>1307</td>\n",
       "      <td>1309</td>\n",
       "    </tr>\n",
       "    <tr>\n",
       "      <th>unique</th>\n",
       "      <td>16</td>\n",
       "      <td>3</td>\n",
       "      <td>5</td>\n",
       "    </tr>\n",
       "    <tr>\n",
       "      <th>top</th>\n",
       "      <td>3</td>\n",
       "      <td>S</td>\n",
       "      <td>Mr</td>\n",
       "    </tr>\n",
       "    <tr>\n",
       "      <th>freq</th>\n",
       "      <td>429</td>\n",
       "      <td>914</td>\n",
       "      <td>757</td>\n",
       "    </tr>\n",
       "  </tbody>\n",
       "</table>\n",
       "</div>"
      ],
      "text/plain": [
       "       Ticket Embarked Title\n",
       "count    1309     1307  1309\n",
       "unique     16        3     5\n",
       "top         3        S    Mr\n",
       "freq      429      914   757"
      ]
     },
     "execution_count": 43,
     "metadata": {},
     "output_type": "execute_result"
    }
   ],
   "source": [
    "df.describe(include=['O']) # S is the most common"
   ]
  },
  {
   "cell_type": "code",
   "execution_count": 44,
   "metadata": {},
   "outputs": [],
   "source": [
    "# fill the NAN\n",
    "df.Embarked.fillna('S' , inplace=True )"
   ]
  },
  {
   "cell_type": "code",
   "execution_count": 45,
   "metadata": {},
   "outputs": [
    {
     "data": {
      "text/html": [
       "<div>\n",
       "<style scoped>\n",
       "    .dataframe tbody tr th:only-of-type {\n",
       "        vertical-align: middle;\n",
       "    }\n",
       "\n",
       "    .dataframe tbody tr th {\n",
       "        vertical-align: top;\n",
       "    }\n",
       "\n",
       "    .dataframe thead th {\n",
       "        text-align: right;\n",
       "    }\n",
       "</style>\n",
       "<table border=\"1\" class=\"dataframe\">\n",
       "  <thead>\n",
       "    <tr style=\"text-align: right;\">\n",
       "      <th></th>\n",
       "      <th>Embarked</th>\n",
       "      <th>Survived</th>\n",
       "      <th>Pclass</th>\n",
       "      <th>Fare</th>\n",
       "      <th>Age</th>\n",
       "      <th>Sex</th>\n",
       "    </tr>\n",
       "  </thead>\n",
       "  <tbody>\n",
       "    <tr>\n",
       "      <th>0</th>\n",
       "      <td>C</td>\n",
       "      <td>0.553571</td>\n",
       "      <td>1.851852</td>\n",
       "      <td>62.336267</td>\n",
       "      <td>32.332170</td>\n",
       "      <td>0.418519</td>\n",
       "    </tr>\n",
       "    <tr>\n",
       "      <th>1</th>\n",
       "      <td>Q</td>\n",
       "      <td>0.389610</td>\n",
       "      <td>2.894309</td>\n",
       "      <td>12.409012</td>\n",
       "      <td>28.630000</td>\n",
       "      <td>0.487805</td>\n",
       "    </tr>\n",
       "    <tr>\n",
       "      <th>2</th>\n",
       "      <td>S</td>\n",
       "      <td>0.339009</td>\n",
       "      <td>2.344978</td>\n",
       "      <td>27.512485</td>\n",
       "      <td>29.298151</td>\n",
       "      <td>0.319869</td>\n",
       "    </tr>\n",
       "  </tbody>\n",
       "</table>\n",
       "</div>"
      ],
      "text/plain": [
       "  Embarked  Survived    Pclass       Fare        Age       Sex\n",
       "0        C  0.553571  1.851852  62.336267  32.332170  0.418519\n",
       "1        Q  0.389610  2.894309  12.409012  28.630000  0.487805\n",
       "2        S  0.339009  2.344978  27.512485  29.298151  0.319869"
      ]
     },
     "execution_count": 45,
     "metadata": {},
     "output_type": "execute_result"
    }
   ],
   "source": [
    "# inspect the correlation between Embarked and Survived as well as some other features\n",
    "df[['Embarked', 'Survived','Pclass','Fare', 'Age', 'Sex']].groupby(['Embarked'], as_index=False).mean()"
   ]
  },
  {
   "cell_type": "code",
   "execution_count": 46,
   "metadata": {},
   "outputs": [],
   "source": [
    "df = df.drop(labels='Embarked', axis=1)"
   ]
  },
  {
   "cell_type": "code",
   "execution_count": 47,
   "metadata": {},
   "outputs": [
    {
     "name": "stderr",
     "output_type": "stream",
     "text": [
      "S:\\Anaconda\\lib\\site-packages\\seaborn\\axisgrid.py:243: UserWarning: The `size` parameter has been renamed to `height`; please update your code.\n",
      "  warnings.warn(msg, UserWarning)\n"
     ]
    },
    {
     "data": {
      "image/png": "[encoded data removed]",
      "text/plain": [
       "<Figure size 864x216 with 5 Axes>"
      ]
     },
     "metadata": {
      "needs_background": "light"
     },
     "output_type": "display_data"
    }
   ],
   "source": [
    "# visualize the correlation between Title and Age\n",
    "grid = sns.FacetGrid(df, col='Title', size=3, aspect=0.8, sharey=False)\n",
    "grid.map(plt.hist, 'Age', alpha=.5, bins=range(0,105,5))\n",
    "plt.show()"
   ]
  },
  {
   "cell_type": "code",
   "execution_count": 48,
   "metadata": {},
   "outputs": [
    {
     "data": {
      "text/html": [
       "<div>\n",
       "<style scoped>\n",
       "    .dataframe tbody tr th:only-of-type {\n",
       "        vertical-align: middle;\n",
       "    }\n",
       "\n",
       "    .dataframe tbody tr th {\n",
       "        vertical-align: top;\n",
       "    }\n",
       "\n",
       "    .dataframe thead th {\n",
       "        text-align: right;\n",
       "    }\n",
       "</style>\n",
       "<table border=\"1\" class=\"dataframe\">\n",
       "  <thead>\n",
       "    <tr style=\"text-align: right;\">\n",
       "      <th></th>\n",
       "      <th>Age</th>\n",
       "    </tr>\n",
       "    <tr>\n",
       "      <th>Title</th>\n",
       "      <th></th>\n",
       "    </tr>\n",
       "  </thead>\n",
       "  <tbody>\n",
       "    <tr>\n",
       "      <th>Master</th>\n",
       "      <td>5.482642</td>\n",
       "    </tr>\n",
       "    <tr>\n",
       "      <th>Miss</th>\n",
       "      <td>21.795236</td>\n",
       "    </tr>\n",
       "    <tr>\n",
       "      <th>Mr</th>\n",
       "      <td>32.252151</td>\n",
       "    </tr>\n",
       "    <tr>\n",
       "      <th>Mrs</th>\n",
       "      <td>36.930636</td>\n",
       "    </tr>\n",
       "    <tr>\n",
       "      <th>Others</th>\n",
       "      <td>45.074074</td>\n",
       "    </tr>\n",
       "  </tbody>\n",
       "</table>\n",
       "</div>"
      ],
      "text/plain": [
       "              Age\n",
       "Title            \n",
       "Master   5.482642\n",
       "Miss    21.795236\n",
       "Mr      32.252151\n",
       "Mrs     36.930636\n",
       "Others  45.074074"
      ]
     },
     "execution_count": 48,
     "metadata": {},
     "output_type": "execute_result"
    }
   ],
   "source": [
    "# inspect the mean Age for each Title\n",
    "df[['Title', 'Age']].groupby(['Title']).mean()"
   ]
  },
  {
   "cell_type": "code",
   "execution_count": 49,
   "metadata": {},
   "outputs": [
    {
     "data": {
      "text/html": [
       "<div>\n",
       "<style scoped>\n",
       "    .dataframe tbody tr th:only-of-type {\n",
       "        vertical-align: middle;\n",
       "    }\n",
       "\n",
       "    .dataframe tbody tr th {\n",
       "        vertical-align: top;\n",
       "    }\n",
       "\n",
       "    .dataframe thead th {\n",
       "        text-align: right;\n",
       "    }\n",
       "</style>\n",
       "<table border=\"1\" class=\"dataframe\">\n",
       "  <thead>\n",
       "    <tr style=\"text-align: right;\">\n",
       "      <th></th>\n",
       "      <th>Age</th>\n",
       "    </tr>\n",
       "    <tr>\n",
       "      <th>Title</th>\n",
       "      <th></th>\n",
       "    </tr>\n",
       "  </thead>\n",
       "  <tbody>\n",
       "    <tr>\n",
       "      <th>Master</th>\n",
       "      <td>4.161554</td>\n",
       "    </tr>\n",
       "    <tr>\n",
       "      <th>Miss</th>\n",
       "      <td>12.192794</td>\n",
       "    </tr>\n",
       "    <tr>\n",
       "      <th>Mr</th>\n",
       "      <td>12.422089</td>\n",
       "    </tr>\n",
       "    <tr>\n",
       "      <th>Mrs</th>\n",
       "      <td>12.872625</td>\n",
       "    </tr>\n",
       "    <tr>\n",
       "      <th>Others</th>\n",
       "      <td>11.303253</td>\n",
       "    </tr>\n",
       "  </tbody>\n",
       "</table>\n",
       "</div>"
      ],
      "text/plain": [
       "              Age\n",
       "Title            \n",
       "Master   4.161554\n",
       "Miss    12.192794\n",
       "Mr      12.422089\n",
       "Mrs     12.872625\n",
       "Others  11.303253"
      ]
     },
     "execution_count": 49,
     "metadata": {},
     "output_type": "execute_result"
    }
   ],
   "source": [
    "df[['Title', 'Age']].groupby(['Title']).std()"
   ]
  },
  {
   "cell_type": "code",
   "execution_count": 50,
   "metadata": {},
   "outputs": [
    {
     "name": "stderr",
     "output_type": "stream",
     "text": [
      "S:\\Anaconda\\lib\\site-packages\\seaborn\\axisgrid.py:243: UserWarning: The `size` parameter has been renamed to `height`; please update your code.\n",
      "  warnings.warn(msg, UserWarning)\n"
     ]
    },
    {
     "data": {
      "image/png": "[encoded data removed]",
      "text/plain": [
       "<Figure size 864x216 with 5 Axes>"
      ]
     },
     "metadata": {
      "needs_background": "light"
     },
     "output_type": "display_data"
    }
   ],
   "source": [
    "# visualize the correlation between Fare-bin and Age\n",
    "grid = sns.FacetGrid(df, col='Fare-bin', size=3, aspect=0.8, sharey=False)\n",
    "grid.map(plt.hist, 'Age', alpha=.5, bins=range(0,105,5))\n",
    "plt.show()"
   ]
  },
  {
   "cell_type": "code",
   "execution_count": 51,
   "metadata": {},
   "outputs": [
    {
     "data": {
      "text/html": [
       "<div>\n",
       "<style scoped>\n",
       "    .dataframe tbody tr th:only-of-type {\n",
       "        vertical-align: middle;\n",
       "    }\n",
       "\n",
       "    .dataframe tbody tr th {\n",
       "        vertical-align: top;\n",
       "    }\n",
       "\n",
       "    .dataframe thead th {\n",
       "        text-align: right;\n",
       "    }\n",
       "</style>\n",
       "<table border=\"1\" class=\"dataframe\">\n",
       "  <thead>\n",
       "    <tr style=\"text-align: right;\">\n",
       "      <th></th>\n",
       "      <th>Age</th>\n",
       "    </tr>\n",
       "    <tr>\n",
       "      <th>Fare-bin</th>\n",
       "      <th></th>\n",
       "    </tr>\n",
       "  </thead>\n",
       "  <tbody>\n",
       "    <tr>\n",
       "      <th>1</th>\n",
       "      <td>27.848315</td>\n",
       "    </tr>\n",
       "    <tr>\n",
       "      <th>2</th>\n",
       "      <td>27.898241</td>\n",
       "    </tr>\n",
       "    <tr>\n",
       "      <th>3</th>\n",
       "      <td>26.144009</td>\n",
       "    </tr>\n",
       "    <tr>\n",
       "      <th>4</th>\n",
       "      <td>30.728604</td>\n",
       "    </tr>\n",
       "    <tr>\n",
       "      <th>5</th>\n",
       "      <td>35.877913</td>\n",
       "    </tr>\n",
       "  </tbody>\n",
       "</table>\n",
       "</div>"
      ],
      "text/plain": [
       "                Age\n",
       "Fare-bin           \n",
       "1         27.848315\n",
       "2         27.898241\n",
       "3         26.144009\n",
       "4         30.728604\n",
       "5         35.877913"
      ]
     },
     "execution_count": 51,
     "metadata": {},
     "output_type": "execute_result"
    }
   ],
   "source": [
    "# inspect the mean Age for each Fare-bin\n",
    "df[['Fare-bin', 'Age']].groupby(['Fare-bin']).mean()"
   ]
  },
  {
   "cell_type": "code",
   "execution_count": 52,
   "metadata": {},
   "outputs": [
    {
     "data": {
      "text/html": [
       "<div>\n",
       "<style scoped>\n",
       "    .dataframe tbody tr th:only-of-type {\n",
       "        vertical-align: middle;\n",
       "    }\n",
       "\n",
       "    .dataframe tbody tr th {\n",
       "        vertical-align: top;\n",
       "    }\n",
       "\n",
       "    .dataframe thead th {\n",
       "        text-align: right;\n",
       "    }\n",
       "</style>\n",
       "<table border=\"1\" class=\"dataframe\">\n",
       "  <thead>\n",
       "    <tr style=\"text-align: right;\">\n",
       "      <th></th>\n",
       "      <th>Age</th>\n",
       "    </tr>\n",
       "    <tr>\n",
       "      <th>Fare-bin</th>\n",
       "      <th></th>\n",
       "    </tr>\n",
       "  </thead>\n",
       "  <tbody>\n",
       "    <tr>\n",
       "      <th>1</th>\n",
       "      <td>10.812580</td>\n",
       "    </tr>\n",
       "    <tr>\n",
       "      <th>2</th>\n",
       "      <td>10.995650</td>\n",
       "    </tr>\n",
       "    <tr>\n",
       "      <th>3</th>\n",
       "      <td>13.523208</td>\n",
       "    </tr>\n",
       "    <tr>\n",
       "      <th>4</th>\n",
       "      <td>17.466022</td>\n",
       "    </tr>\n",
       "    <tr>\n",
       "      <th>5</th>\n",
       "      <td>15.150724</td>\n",
       "    </tr>\n",
       "  </tbody>\n",
       "</table>\n",
       "</div>"
      ],
      "text/plain": [
       "                Age\n",
       "Fare-bin           \n",
       "1         10.812580\n",
       "2         10.995650\n",
       "3         13.523208\n",
       "4         17.466022\n",
       "5         15.150724"
      ]
     },
     "execution_count": 52,
     "metadata": {},
     "output_type": "execute_result"
    }
   ],
   "source": [
    "# inspect the standard deviation of Age for each Fare-bin\n",
    "df[['Fare-bin', 'Age']].groupby(['Fare-bin']).std()"
   ]
  },
  {
   "cell_type": "code",
   "execution_count": 53,
   "metadata": {},
   "outputs": [
    {
     "name": "stderr",
     "output_type": "stream",
     "text": [
      "S:\\Anaconda\\lib\\site-packages\\seaborn\\axisgrid.py:243: UserWarning: The `size` parameter has been renamed to `height`; please update your code.\n",
      "  warnings.warn(msg, UserWarning)\n"
     ]
    },
    {
     "data": {
      "image/png": "[encoded data removed]",
      "text/plain": [
       "<Figure size 691.2x432 with 7 Axes>"
      ]
     },
     "metadata": {
      "needs_background": "light"
     },
     "output_type": "display_data"
    }
   ],
   "source": [
    "# visualize the correlation between SibSp and Age\n",
    "grid = sns.FacetGrid(df, col='SibSp', col_wrap=4, size=3.0, aspect=0.8, sharey=False)\n",
    "grid.map(plt.hist, 'Age', alpha=.5, bins=range(0,105,5))\n",
    "plt.show()"
   ]
  },
  {
   "cell_type": "code",
   "execution_count": 54,
   "metadata": {},
   "outputs": [
    {
     "data": {
      "text/html": [
       "<div>\n",
       "<style scoped>\n",
       "    .dataframe tbody tr th:only-of-type {\n",
       "        vertical-align: middle;\n",
       "    }\n",
       "\n",
       "    .dataframe tbody tr th {\n",
       "        vertical-align: top;\n",
       "    }\n",
       "\n",
       "    .dataframe thead th {\n",
       "        text-align: right;\n",
       "    }\n",
       "</style>\n",
       "<table border=\"1\" class=\"dataframe\">\n",
       "  <thead>\n",
       "    <tr style=\"text-align: right;\">\n",
       "      <th></th>\n",
       "      <th>Age</th>\n",
       "    </tr>\n",
       "    <tr>\n",
       "      <th>SibSp</th>\n",
       "      <th></th>\n",
       "    </tr>\n",
       "  </thead>\n",
       "  <tbody>\n",
       "    <tr>\n",
       "      <th>0</th>\n",
       "      <td>30.921766</td>\n",
       "    </tr>\n",
       "    <tr>\n",
       "      <th>1</th>\n",
       "      <td>31.058071</td>\n",
       "    </tr>\n",
       "    <tr>\n",
       "      <th>2</th>\n",
       "      <td>23.569444</td>\n",
       "    </tr>\n",
       "    <tr>\n",
       "      <th>3</th>\n",
       "      <td>16.312500</td>\n",
       "    </tr>\n",
       "    <tr>\n",
       "      <th>4</th>\n",
       "      <td>8.772727</td>\n",
       "    </tr>\n",
       "    <tr>\n",
       "      <th>5</th>\n",
       "      <td>10.166667</td>\n",
       "    </tr>\n",
       "    <tr>\n",
       "      <th>8</th>\n",
       "      <td>14.500000</td>\n",
       "    </tr>\n",
       "  </tbody>\n",
       "</table>\n",
       "</div>"
      ],
      "text/plain": [
       "             Age\n",
       "SibSp           \n",
       "0      30.921766\n",
       "1      31.058071\n",
       "2      23.569444\n",
       "3      16.312500\n",
       "4       8.772727\n",
       "5      10.166667\n",
       "8      14.500000"
      ]
     },
     "execution_count": 54,
     "metadata": {},
     "output_type": "execute_result"
    }
   ],
   "source": [
    "# inspect the mean Age for each SibSp\n",
    "df[['SibSp', 'Age']].groupby(['SibSp']).mean()"
   ]
  },
  {
   "cell_type": "code",
   "execution_count": 55,
   "metadata": {},
   "outputs": [
    {
     "data": {
      "text/html": [
       "<div>\n",
       "<style scoped>\n",
       "    .dataframe tbody tr th:only-of-type {\n",
       "        vertical-align: middle;\n",
       "    }\n",
       "\n",
       "    .dataframe tbody tr th {\n",
       "        vertical-align: top;\n",
       "    }\n",
       "\n",
       "    .dataframe thead th {\n",
       "        text-align: right;\n",
       "    }\n",
       "</style>\n",
       "<table border=\"1\" class=\"dataframe\">\n",
       "  <thead>\n",
       "    <tr style=\"text-align: right;\">\n",
       "      <th></th>\n",
       "      <th>Age</th>\n",
       "    </tr>\n",
       "    <tr>\n",
       "      <th>SibSp</th>\n",
       "      <th></th>\n",
       "    </tr>\n",
       "  </thead>\n",
       "  <tbody>\n",
       "    <tr>\n",
       "      <th>0</th>\n",
       "      <td>13.059751</td>\n",
       "    </tr>\n",
       "    <tr>\n",
       "      <th>1</th>\n",
       "      <td>15.974482</td>\n",
       "    </tr>\n",
       "    <tr>\n",
       "      <th>2</th>\n",
       "      <td>14.910640</td>\n",
       "    </tr>\n",
       "    <tr>\n",
       "      <th>3</th>\n",
       "      <td>11.824938</td>\n",
       "    </tr>\n",
       "    <tr>\n",
       "      <th>4</th>\n",
       "      <td>8.005545</td>\n",
       "    </tr>\n",
       "    <tr>\n",
       "      <th>5</th>\n",
       "      <td>5.192944</td>\n",
       "    </tr>\n",
       "    <tr>\n",
       "      <th>8</th>\n",
       "      <td>NaN</td>\n",
       "    </tr>\n",
       "  </tbody>\n",
       "</table>\n",
       "</div>"
      ],
      "text/plain": [
       "             Age\n",
       "SibSp           \n",
       "0      13.059751\n",
       "1      15.974482\n",
       "2      14.910640\n",
       "3      11.824938\n",
       "4       8.005545\n",
       "5       5.192944\n",
       "8            NaN"
      ]
     },
     "execution_count": 55,
     "metadata": {},
     "output_type": "execute_result"
    }
   ],
   "source": [
    "# inspect the standard deviation of Age for each SibSp\n",
    "df[['SibSp', 'Age']].groupby(['SibSp']).std()"
   ]
  },
  {
   "cell_type": "code",
   "execution_count": 56,
   "metadata": {},
   "outputs": [
    {
     "name": "stderr",
     "output_type": "stream",
     "text": [
      "S:\\Anaconda\\lib\\site-packages\\seaborn\\axisgrid.py:243: UserWarning: The `size` parameter has been renamed to `height`; please update your code.\n",
      "  warnings.warn(msg, UserWarning)\n"
     ]
    },
    {
     "data": {
      "image/png": "[encoded data removed]",
      "text/plain": [
       "<Figure size 691.2x432 with 8 Axes>"
      ]
     },
     "metadata": {
      "needs_background": "light"
     },
     "output_type": "display_data"
    }
   ],
   "source": [
    "# visualize the correlation between Parch and Age\n",
    "grid = sns.FacetGrid(df, col='Parch', col_wrap=4, size=3.0, aspect=0.8, sharey=False)\n",
    "grid.map(plt.hist, 'Age', alpha=.5, bins=range(0,105,5))\n",
    "plt.show()"
   ]
  },
  {
   "cell_type": "code",
   "execution_count": 57,
   "metadata": {},
   "outputs": [
    {
     "data": {
      "text/html": [
       "<div>\n",
       "<style scoped>\n",
       "    .dataframe tbody tr th:only-of-type {\n",
       "        vertical-align: middle;\n",
       "    }\n",
       "\n",
       "    .dataframe tbody tr th {\n",
       "        vertical-align: top;\n",
       "    }\n",
       "\n",
       "    .dataframe thead th {\n",
       "        text-align: right;\n",
       "    }\n",
       "</style>\n",
       "<table border=\"1\" class=\"dataframe\">\n",
       "  <thead>\n",
       "    <tr style=\"text-align: right;\">\n",
       "      <th></th>\n",
       "      <th>Age</th>\n",
       "    </tr>\n",
       "    <tr>\n",
       "      <th>Parch</th>\n",
       "      <th></th>\n",
       "    </tr>\n",
       "  </thead>\n",
       "  <tbody>\n",
       "    <tr>\n",
       "      <th>0</th>\n",
       "      <td>31.969401</td>\n",
       "    </tr>\n",
       "    <tr>\n",
       "      <th>1</th>\n",
       "      <td>24.965625</td>\n",
       "    </tr>\n",
       "    <tr>\n",
       "      <th>2</th>\n",
       "      <td>18.975979</td>\n",
       "    </tr>\n",
       "    <tr>\n",
       "      <th>3</th>\n",
       "      <td>38.875000</td>\n",
       "    </tr>\n",
       "    <tr>\n",
       "      <th>4</th>\n",
       "      <td>47.600000</td>\n",
       "    </tr>\n",
       "    <tr>\n",
       "      <th>5</th>\n",
       "      <td>39.333333</td>\n",
       "    </tr>\n",
       "    <tr>\n",
       "      <th>6</th>\n",
       "      <td>41.500000</td>\n",
       "    </tr>\n",
       "    <tr>\n",
       "      <th>9</th>\n",
       "      <td>NaN</td>\n",
       "    </tr>\n",
       "  </tbody>\n",
       "</table>\n",
       "</div>"
      ],
      "text/plain": [
       "             Age\n",
       "Parch           \n",
       "0      31.969401\n",
       "1      24.965625\n",
       "2      18.975979\n",
       "3      38.875000\n",
       "4      47.600000\n",
       "5      39.333333\n",
       "6      41.500000\n",
       "9            NaN"
      ]
     },
     "execution_count": 57,
     "metadata": {},
     "output_type": "execute_result"
    }
   ],
   "source": [
    "# inspect the mean Age for each Parch\n",
    "df[['Parch', 'Age']].groupby(['Parch']).mean()"
   ]
  },
  {
   "cell_type": "code",
   "execution_count": 58,
   "metadata": {},
   "outputs": [
    {
     "data": {
      "text/html": [
       "<div>\n",
       "<style scoped>\n",
       "    .dataframe tbody tr th:only-of-type {\n",
       "        vertical-align: middle;\n",
       "    }\n",
       "\n",
       "    .dataframe tbody tr th {\n",
       "        vertical-align: top;\n",
       "    }\n",
       "\n",
       "    .dataframe thead th {\n",
       "        text-align: right;\n",
       "    }\n",
       "</style>\n",
       "<table border=\"1\" class=\"dataframe\">\n",
       "  <thead>\n",
       "    <tr style=\"text-align: right;\">\n",
       "      <th></th>\n",
       "      <th>Age</th>\n",
       "    </tr>\n",
       "    <tr>\n",
       "      <th>Parch</th>\n",
       "      <th></th>\n",
       "    </tr>\n",
       "  </thead>\n",
       "  <tbody>\n",
       "    <tr>\n",
       "      <th>0</th>\n",
       "      <td>12.422617</td>\n",
       "    </tr>\n",
       "    <tr>\n",
       "      <th>1</th>\n",
       "      <td>18.410885</td>\n",
       "    </tr>\n",
       "    <tr>\n",
       "      <th>2</th>\n",
       "      <td>14.564066</td>\n",
       "    </tr>\n",
       "    <tr>\n",
       "      <th>3</th>\n",
       "      <td>16.295815</td>\n",
       "    </tr>\n",
       "    <tr>\n",
       "      <th>4</th>\n",
       "      <td>14.432602</td>\n",
       "    </tr>\n",
       "    <tr>\n",
       "      <th>5</th>\n",
       "      <td>1.032796</td>\n",
       "    </tr>\n",
       "    <tr>\n",
       "      <th>6</th>\n",
       "      <td>2.121320</td>\n",
       "    </tr>\n",
       "    <tr>\n",
       "      <th>9</th>\n",
       "      <td>NaN</td>\n",
       "    </tr>\n",
       "  </tbody>\n",
       "</table>\n",
       "</div>"
      ],
      "text/plain": [
       "             Age\n",
       "Parch           \n",
       "0      12.422617\n",
       "1      18.410885\n",
       "2      14.564066\n",
       "3      16.295815\n",
       "4      14.432602\n",
       "5       1.032796\n",
       "6       2.121320\n",
       "9            NaN"
      ]
     },
     "execution_count": 58,
     "metadata": {},
     "output_type": "execute_result"
    }
   ],
   "source": [
    "# inspect the standard deviation of Age for each Parch\n",
    "df[['Parch', 'Age']].groupby(['Parch']).std() "
   ]
  },
  {
   "cell_type": "code",
   "execution_count": 59,
   "metadata": {},
   "outputs": [
    {
     "name": "stderr",
     "output_type": "stream",
     "text": [
      "S:\\Anaconda\\lib\\site-packages\\pandas\\core\\indexing.py:671: SettingWithCopyWarning: \n",
      "A value is trying to be set on a copy of a slice from a DataFrame\n",
      "\n",
      "See the caveats in the documentation: https://pandas.pydata.org/pandas-docs/stable/user_guide/indexing.html#returning-a-view-versus-a-copy\n",
      "  self._setitem_with_indexer(indexer, value)\n"
     ]
    },
    {
     "data": {
      "text/plain": [
       "0"
      ]
     },
     "execution_count": 59,
     "metadata": {},
     "output_type": "execute_result"
    }
   ],
   "source": [
    "# notice that instead of using Title, we should use its corresponding dummy variables \n",
    "df_sub = df[['Age','Master','Miss','Mr','Mrs','Others','Fare-bin','SibSp']]\n",
    "\n",
    "X_train  = df_sub.dropna().drop('Age', axis=1)\n",
    "y_train  = df['Age'].dropna()\n",
    "X_test = df_sub.loc[np.isnan(df.Age)].drop('Age', axis=1)\n",
    "\n",
    "regressor = RandomForestRegressor(n_estimators = 300)\n",
    "regressor.fit(X_train, y_train)\n",
    "y_pred = np.round(regressor.predict(X_test),1)\n",
    "df.Age.loc[df.Age.isnull()] = y_pred\n",
    "\n",
    "df.Age.isnull().sum(axis=0) # no more NAN now"
   ]
  },
  {
   "cell_type": "code",
   "execution_count": 60,
   "metadata": {},
   "outputs": [
    {
     "data": {
      "text/html": [
       "<div>\n",
       "<style scoped>\n",
       "    .dataframe tbody tr th:only-of-type {\n",
       "        vertical-align: middle;\n",
       "    }\n",
       "\n",
       "    .dataframe tbody tr th {\n",
       "        vertical-align: top;\n",
       "    }\n",
       "\n",
       "    .dataframe thead th {\n",
       "        text-align: right;\n",
       "    }\n",
       "</style>\n",
       "<table border=\"1\" class=\"dataframe\">\n",
       "  <thead>\n",
       "    <tr style=\"text-align: right;\">\n",
       "      <th></th>\n",
       "      <th>Age-bin</th>\n",
       "      <th>Survived</th>\n",
       "    </tr>\n",
       "  </thead>\n",
       "  <tbody>\n",
       "    <tr>\n",
       "      <th>0</th>\n",
       "      <td>1</td>\n",
       "      <td>0.675000</td>\n",
       "    </tr>\n",
       "    <tr>\n",
       "      <th>1</th>\n",
       "      <td>2</td>\n",
       "      <td>0.452381</td>\n",
       "    </tr>\n",
       "    <tr>\n",
       "      <th>2</th>\n",
       "      <td>3</td>\n",
       "      <td>0.402597</td>\n",
       "    </tr>\n",
       "    <tr>\n",
       "      <th>3</th>\n",
       "      <td>4</td>\n",
       "      <td>0.315789</td>\n",
       "    </tr>\n",
       "    <tr>\n",
       "      <th>4</th>\n",
       "      <td>5</td>\n",
       "      <td>0.427083</td>\n",
       "    </tr>\n",
       "    <tr>\n",
       "      <th>5</th>\n",
       "      <td>6</td>\n",
       "      <td>0.375000</td>\n",
       "    </tr>\n",
       "    <tr>\n",
       "      <th>6</th>\n",
       "      <td>7</td>\n",
       "      <td>0.125000</td>\n",
       "    </tr>\n",
       "  </tbody>\n",
       "</table>\n",
       "</div>"
      ],
      "text/plain": [
       "   Age-bin  Survived\n",
       "0        1  0.675000\n",
       "1        2  0.452381\n",
       "2        3  0.402597\n",
       "3        4  0.315789\n",
       "4        5  0.427083\n",
       "5        6  0.375000\n",
       "6        7  0.125000"
      ]
     },
     "execution_count": 60,
     "metadata": {},
     "output_type": "execute_result"
    }
   ],
   "source": [
    "bins = [ 0, 4, 12, 18, 30, 50, 65, 100] # This is somewhat arbitrary...\n",
    "age_index = (1,2,3,4,5,6,7)\n",
    "#('baby','child','teenager','young','mid-age','over-50','senior')\n",
    "df['Age-bin'] = pd.cut(df.Age, bins, labels=age_index).astype(int)\n",
    "\n",
    "df[['Age-bin', 'Survived']].groupby(['Age-bin'],as_index=False).mean()"
   ]
  },
  {
   "cell_type": "code",
   "execution_count": 61,
   "metadata": {},
   "outputs": [
    {
     "data": {
      "text/html": [
       "<div>\n",
       "<style scoped>\n",
       "    .dataframe tbody tr th:only-of-type {\n",
       "        vertical-align: middle;\n",
       "    }\n",
       "\n",
       "    .dataframe tbody tr th {\n",
       "        vertical-align: top;\n",
       "    }\n",
       "\n",
       "    .dataframe thead th {\n",
       "        text-align: right;\n",
       "    }\n",
       "</style>\n",
       "<table border=\"1\" class=\"dataframe\">\n",
       "  <thead>\n",
       "    <tr style=\"text-align: right;\">\n",
       "      <th></th>\n",
       "      <th>Ticket</th>\n",
       "      <th>Survived</th>\n",
       "    </tr>\n",
       "  </thead>\n",
       "  <tbody>\n",
       "    <tr>\n",
       "      <th>0</th>\n",
       "      <td>1</td>\n",
       "      <td>0.630137</td>\n",
       "    </tr>\n",
       "    <tr>\n",
       "      <th>1</th>\n",
       "      <td>2</td>\n",
       "      <td>0.464481</td>\n",
       "    </tr>\n",
       "    <tr>\n",
       "      <th>2</th>\n",
       "      <td>3</td>\n",
       "      <td>0.239203</td>\n",
       "    </tr>\n",
       "    <tr>\n",
       "      <th>3</th>\n",
       "      <td>4</td>\n",
       "      <td>0.200000</td>\n",
       "    </tr>\n",
       "    <tr>\n",
       "      <th>4</th>\n",
       "      <td>5</td>\n",
       "      <td>0.000000</td>\n",
       "    </tr>\n",
       "    <tr>\n",
       "      <th>5</th>\n",
       "      <td>6</td>\n",
       "      <td>0.166667</td>\n",
       "    </tr>\n",
       "    <tr>\n",
       "      <th>6</th>\n",
       "      <td>7</td>\n",
       "      <td>0.111111</td>\n",
       "    </tr>\n",
       "    <tr>\n",
       "      <th>7</th>\n",
       "      <td>8</td>\n",
       "      <td>0.000000</td>\n",
       "    </tr>\n",
       "    <tr>\n",
       "      <th>8</th>\n",
       "      <td>9</td>\n",
       "      <td>1.000000</td>\n",
       "    </tr>\n",
       "    <tr>\n",
       "      <th>9</th>\n",
       "      <td>A</td>\n",
       "      <td>0.068966</td>\n",
       "    </tr>\n",
       "    <tr>\n",
       "      <th>10</th>\n",
       "      <td>C</td>\n",
       "      <td>0.340426</td>\n",
       "    </tr>\n",
       "    <tr>\n",
       "      <th>11</th>\n",
       "      <td>F</td>\n",
       "      <td>0.571429</td>\n",
       "    </tr>\n",
       "    <tr>\n",
       "      <th>12</th>\n",
       "      <td>L</td>\n",
       "      <td>0.250000</td>\n",
       "    </tr>\n",
       "    <tr>\n",
       "      <th>13</th>\n",
       "      <td>P</td>\n",
       "      <td>0.646154</td>\n",
       "    </tr>\n",
       "    <tr>\n",
       "      <th>14</th>\n",
       "      <td>S</td>\n",
       "      <td>0.323077</td>\n",
       "    </tr>\n",
       "    <tr>\n",
       "      <th>15</th>\n",
       "      <td>W</td>\n",
       "      <td>0.153846</td>\n",
       "    </tr>\n",
       "  </tbody>\n",
       "</table>\n",
       "</div>"
      ],
      "text/plain": [
       "   Ticket  Survived\n",
       "0       1  0.630137\n",
       "1       2  0.464481\n",
       "2       3  0.239203\n",
       "3       4  0.200000\n",
       "4       5  0.000000\n",
       "5       6  0.166667\n",
       "6       7  0.111111\n",
       "7       8  0.000000\n",
       "8       9  1.000000\n",
       "9       A  0.068966\n",
       "10      C  0.340426\n",
       "11      F  0.571429\n",
       "12      L  0.250000\n",
       "13      P  0.646154\n",
       "14      S  0.323077\n",
       "15      W  0.153846"
      ]
     },
     "execution_count": 61,
     "metadata": {},
     "output_type": "execute_result"
    }
   ],
   "source": [
    "df[['Ticket', 'Survived']].groupby(['Ticket'], as_index=False).mean()"
   ]
  },
  {
   "cell_type": "code",
   "execution_count": 62,
   "metadata": {},
   "outputs": [
    {
     "data": {
      "text/plain": [
       "3    429\n",
       "2    278\n",
       "1    210\n",
       "P     98\n",
       "S     98\n",
       "C     77\n",
       "A     42\n",
       "W     19\n",
       "7     13\n",
       "F     13\n",
       "4     11\n",
       "6      9\n",
       "L      5\n",
       "5      3\n",
       "9      2\n",
       "8      2\n",
       "Name: Ticket, dtype: int64"
      ]
     },
     "execution_count": 62,
     "metadata": {},
     "output_type": "execute_result"
    }
   ],
   "source": [
    "df['Ticket'].value_counts()"
   ]
  },
  {
   "cell_type": "code",
   "execution_count": 63,
   "metadata": {},
   "outputs": [
    {
     "data": {
      "text/html": [
       "<div>\n",
       "<style scoped>\n",
       "    .dataframe tbody tr th:only-of-type {\n",
       "        vertical-align: middle;\n",
       "    }\n",
       "\n",
       "    .dataframe tbody tr th {\n",
       "        vertical-align: top;\n",
       "    }\n",
       "\n",
       "    .dataframe thead th {\n",
       "        text-align: right;\n",
       "    }\n",
       "</style>\n",
       "<table border=\"1\" class=\"dataframe\">\n",
       "  <thead>\n",
       "    <tr style=\"text-align: right;\">\n",
       "      <th></th>\n",
       "      <th>Ticket</th>\n",
       "      <th>Survived</th>\n",
       "    </tr>\n",
       "  </thead>\n",
       "  <tbody>\n",
       "    <tr>\n",
       "      <th>0</th>\n",
       "      <td>1</td>\n",
       "      <td>0.630137</td>\n",
       "    </tr>\n",
       "    <tr>\n",
       "      <th>1</th>\n",
       "      <td>2</td>\n",
       "      <td>0.464481</td>\n",
       "    </tr>\n",
       "    <tr>\n",
       "      <th>2</th>\n",
       "      <td>3</td>\n",
       "      <td>0.239203</td>\n",
       "    </tr>\n",
       "    <tr>\n",
       "      <th>3</th>\n",
       "      <td>4</td>\n",
       "      <td>0.166667</td>\n",
       "    </tr>\n",
       "    <tr>\n",
       "      <th>4</th>\n",
       "      <td>C</td>\n",
       "      <td>0.340426</td>\n",
       "    </tr>\n",
       "    <tr>\n",
       "      <th>5</th>\n",
       "      <td>P</td>\n",
       "      <td>0.646154</td>\n",
       "    </tr>\n",
       "    <tr>\n",
       "      <th>6</th>\n",
       "      <td>S</td>\n",
       "      <td>0.323077</td>\n",
       "    </tr>\n",
       "  </tbody>\n",
       "</table>\n",
       "</div>"
      ],
      "text/plain": [
       "  Ticket  Survived\n",
       "0      1  0.630137\n",
       "1      2  0.464481\n",
       "2      3  0.239203\n",
       "3      4  0.166667\n",
       "4      C  0.340426\n",
       "5      P  0.646154\n",
       "6      S  0.323077"
      ]
     },
     "execution_count": 63,
     "metadata": {},
     "output_type": "execute_result"
    }
   ],
   "source": [
    "df['Ticket'] = df['Ticket'].replace(['A','W','F','L','5','6','7','8','9'], '4')\n",
    "\n",
    "# check the correlation again\n",
    "df[['Ticket', 'Survived']].groupby(['Ticket'], as_index=False).mean()"
   ]
  },
  {
   "cell_type": "code",
   "execution_count": 64,
   "metadata": {},
   "outputs": [],
   "source": [
    "# dummy encoding\n",
    "df = pd.get_dummies(df,columns=['Ticket'])"
   ]
  },
  {
   "cell_type": "code",
   "execution_count": 65,
   "metadata": {},
   "outputs": [],
   "source": [
    "from sklearn.model_selection import train_test_split\n",
    "\n",
    "df_RF = df[0:891].drop(labels=['SibSp','Parch','Age','Fare','Title'], axis=1)\n",
    "\n",
    "predictors = df_RF.drop(['Survived', 'PassengerId'], axis=1)\n",
    "target = df_RF[\"Survived\"]\n",
    "\n",
    "x_Rtrain, x_Rval, y_Rtrain, y_Rval = train_test_split(predictors, target, test_size = 0.22, random_state = 0)"
   ]
  },
  {
   "cell_type": "code",
   "execution_count": 66,
   "metadata": {},
   "outputs": [],
   "source": [
    "df = df.drop(labels=['SibSp','Parch','Age','Fare','Title'], axis=1)\n",
    "\n",
    "y_train = df[0:891]['Survived'].values\n",
    "X_train = df[0:891].drop(['Survived','PassengerId'], axis=1).values\n",
    "X_test  = df[891:].drop(['Survived','PassengerId'], axis=1).values"
   ]
  },
  {
   "cell_type": "code",
   "execution_count": 67,
   "metadata": {},
   "outputs": [],
   "source": [
    "#Sequential?"
   ]
  },
  {
   "cell_type": "code",
   "execution_count": 68,
   "metadata": {},
   "outputs": [
    {
     "data": {
      "text/html": [
       "<div>\n",
       "<style scoped>\n",
       "    .dataframe tbody tr th:only-of-type {\n",
       "        vertical-align: middle;\n",
       "    }\n",
       "\n",
       "    .dataframe tbody tr th {\n",
       "        vertical-align: top;\n",
       "    }\n",
       "\n",
       "    .dataframe thead th {\n",
       "        text-align: right;\n",
       "    }\n",
       "</style>\n",
       "<table border=\"1\" class=\"dataframe\">\n",
       "  <thead>\n",
       "    <tr style=\"text-align: right;\">\n",
       "      <th></th>\n",
       "      <th>PassengerId</th>\n",
       "      <th>Survived</th>\n",
       "      <th>Pclass</th>\n",
       "      <th>Sex</th>\n",
       "      <th>Master</th>\n",
       "      <th>Miss</th>\n",
       "      <th>Mr</th>\n",
       "      <th>Mrs</th>\n",
       "      <th>Others</th>\n",
       "      <th>Family</th>\n",
       "      <th>Fare-bin</th>\n",
       "      <th>Age-bin</th>\n",
       "      <th>Ticket_1</th>\n",
       "      <th>Ticket_2</th>\n",
       "      <th>Ticket_3</th>\n",
       "      <th>Ticket_4</th>\n",
       "      <th>Ticket_C</th>\n",
       "      <th>Ticket_P</th>\n",
       "      <th>Ticket_S</th>\n",
       "    </tr>\n",
       "  </thead>\n",
       "  <tbody>\n",
       "    <tr>\n",
       "      <th>0</th>\n",
       "      <td>1</td>\n",
       "      <td>0.0</td>\n",
       "      <td>3</td>\n",
       "      <td>0</td>\n",
       "      <td>0</td>\n",
       "      <td>0</td>\n",
       "      <td>1</td>\n",
       "      <td>0</td>\n",
       "      <td>0</td>\n",
       "      <td>2</td>\n",
       "      <td>1</td>\n",
       "      <td>4</td>\n",
       "      <td>0</td>\n",
       "      <td>0</td>\n",
       "      <td>0</td>\n",
       "      <td>1</td>\n",
       "      <td>0</td>\n",
       "      <td>0</td>\n",
       "      <td>0</td>\n",
       "    </tr>\n",
       "    <tr>\n",
       "      <th>1</th>\n",
       "      <td>2</td>\n",
       "      <td>1.0</td>\n",
       "      <td>1</td>\n",
       "      <td>1</td>\n",
       "      <td>0</td>\n",
       "      <td>0</td>\n",
       "      <td>0</td>\n",
       "      <td>1</td>\n",
       "      <td>0</td>\n",
       "      <td>2</td>\n",
       "      <td>5</td>\n",
       "      <td>5</td>\n",
       "      <td>0</td>\n",
       "      <td>0</td>\n",
       "      <td>0</td>\n",
       "      <td>0</td>\n",
       "      <td>0</td>\n",
       "      <td>1</td>\n",
       "      <td>0</td>\n",
       "    </tr>\n",
       "    <tr>\n",
       "      <th>2</th>\n",
       "      <td>3</td>\n",
       "      <td>1.0</td>\n",
       "      <td>3</td>\n",
       "      <td>1</td>\n",
       "      <td>0</td>\n",
       "      <td>1</td>\n",
       "      <td>0</td>\n",
       "      <td>0</td>\n",
       "      <td>0</td>\n",
       "      <td>1</td>\n",
       "      <td>2</td>\n",
       "      <td>4</td>\n",
       "      <td>0</td>\n",
       "      <td>0</td>\n",
       "      <td>0</td>\n",
       "      <td>0</td>\n",
       "      <td>0</td>\n",
       "      <td>0</td>\n",
       "      <td>1</td>\n",
       "    </tr>\n",
       "    <tr>\n",
       "      <th>3</th>\n",
       "      <td>4</td>\n",
       "      <td>1.0</td>\n",
       "      <td>1</td>\n",
       "      <td>1</td>\n",
       "      <td>0</td>\n",
       "      <td>0</td>\n",
       "      <td>0</td>\n",
       "      <td>1</td>\n",
       "      <td>0</td>\n",
       "      <td>2</td>\n",
       "      <td>5</td>\n",
       "      <td>5</td>\n",
       "      <td>1</td>\n",
       "      <td>0</td>\n",
       "      <td>0</td>\n",
       "      <td>0</td>\n",
       "      <td>0</td>\n",
       "      <td>0</td>\n",
       "      <td>0</td>\n",
       "    </tr>\n",
       "    <tr>\n",
       "      <th>4</th>\n",
       "      <td>5</td>\n",
       "      <td>0.0</td>\n",
       "      <td>3</td>\n",
       "      <td>0</td>\n",
       "      <td>0</td>\n",
       "      <td>0</td>\n",
       "      <td>1</td>\n",
       "      <td>0</td>\n",
       "      <td>0</td>\n",
       "      <td>1</td>\n",
       "      <td>2</td>\n",
       "      <td>5</td>\n",
       "      <td>0</td>\n",
       "      <td>0</td>\n",
       "      <td>1</td>\n",
       "      <td>0</td>\n",
       "      <td>0</td>\n",
       "      <td>0</td>\n",
       "      <td>0</td>\n",
       "    </tr>\n",
       "    <tr>\n",
       "      <th>...</th>\n",
       "      <td>...</td>\n",
       "      <td>...</td>\n",
       "      <td>...</td>\n",
       "      <td>...</td>\n",
       "      <td>...</td>\n",
       "      <td>...</td>\n",
       "      <td>...</td>\n",
       "      <td>...</td>\n",
       "      <td>...</td>\n",
       "      <td>...</td>\n",
       "      <td>...</td>\n",
       "      <td>...</td>\n",
       "      <td>...</td>\n",
       "      <td>...</td>\n",
       "      <td>...</td>\n",
       "      <td>...</td>\n",
       "      <td>...</td>\n",
       "      <td>...</td>\n",
       "      <td>...</td>\n",
       "    </tr>\n",
       "    <tr>\n",
       "      <th>1304</th>\n",
       "      <td>1305</td>\n",
       "      <td>NaN</td>\n",
       "      <td>3</td>\n",
       "      <td>0</td>\n",
       "      <td>0</td>\n",
       "      <td>0</td>\n",
       "      <td>1</td>\n",
       "      <td>0</td>\n",
       "      <td>0</td>\n",
       "      <td>1</td>\n",
       "      <td>2</td>\n",
       "      <td>4</td>\n",
       "      <td>0</td>\n",
       "      <td>0</td>\n",
       "      <td>0</td>\n",
       "      <td>1</td>\n",
       "      <td>0</td>\n",
       "      <td>0</td>\n",
       "      <td>0</td>\n",
       "    </tr>\n",
       "    <tr>\n",
       "      <th>1305</th>\n",
       "      <td>1306</td>\n",
       "      <td>NaN</td>\n",
       "      <td>1</td>\n",
       "      <td>1</td>\n",
       "      <td>0</td>\n",
       "      <td>0</td>\n",
       "      <td>0</td>\n",
       "      <td>0</td>\n",
       "      <td>1</td>\n",
       "      <td>1</td>\n",
       "      <td>5</td>\n",
       "      <td>5</td>\n",
       "      <td>0</td>\n",
       "      <td>0</td>\n",
       "      <td>0</td>\n",
       "      <td>0</td>\n",
       "      <td>0</td>\n",
       "      <td>1</td>\n",
       "      <td>0</td>\n",
       "    </tr>\n",
       "    <tr>\n",
       "      <th>1306</th>\n",
       "      <td>1307</td>\n",
       "      <td>NaN</td>\n",
       "      <td>3</td>\n",
       "      <td>0</td>\n",
       "      <td>0</td>\n",
       "      <td>0</td>\n",
       "      <td>1</td>\n",
       "      <td>0</td>\n",
       "      <td>0</td>\n",
       "      <td>1</td>\n",
       "      <td>1</td>\n",
       "      <td>5</td>\n",
       "      <td>0</td>\n",
       "      <td>0</td>\n",
       "      <td>0</td>\n",
       "      <td>0</td>\n",
       "      <td>0</td>\n",
       "      <td>0</td>\n",
       "      <td>1</td>\n",
       "    </tr>\n",
       "    <tr>\n",
       "      <th>1307</th>\n",
       "      <td>1308</td>\n",
       "      <td>NaN</td>\n",
       "      <td>3</td>\n",
       "      <td>0</td>\n",
       "      <td>0</td>\n",
       "      <td>0</td>\n",
       "      <td>1</td>\n",
       "      <td>0</td>\n",
       "      <td>0</td>\n",
       "      <td>1</td>\n",
       "      <td>2</td>\n",
       "      <td>4</td>\n",
       "      <td>0</td>\n",
       "      <td>0</td>\n",
       "      <td>1</td>\n",
       "      <td>0</td>\n",
       "      <td>0</td>\n",
       "      <td>0</td>\n",
       "      <td>0</td>\n",
       "    </tr>\n",
       "    <tr>\n",
       "      <th>1308</th>\n",
       "      <td>1309</td>\n",
       "      <td>NaN</td>\n",
       "      <td>3</td>\n",
       "      <td>0</td>\n",
       "      <td>1</td>\n",
       "      <td>0</td>\n",
       "      <td>0</td>\n",
       "      <td>0</td>\n",
       "      <td>0</td>\n",
       "      <td>3</td>\n",
       "      <td>4</td>\n",
       "      <td>1</td>\n",
       "      <td>0</td>\n",
       "      <td>1</td>\n",
       "      <td>0</td>\n",
       "      <td>0</td>\n",
       "      <td>0</td>\n",
       "      <td>0</td>\n",
       "      <td>0</td>\n",
       "    </tr>\n",
       "  </tbody>\n",
       "</table>\n",
       "<p>1309 rows × 19 columns</p>\n",
       "</div>"
      ],
      "text/plain": [
       "      PassengerId  Survived  Pclass  Sex  Master  Miss  Mr  Mrs  Others  \\\n",
       "0               1       0.0       3    0       0     0   1    0       0   \n",
       "1               2       1.0       1    1       0     0   0    1       0   \n",
       "2               3       1.0       3    1       0     1   0    0       0   \n",
       "3               4       1.0       1    1       0     0   0    1       0   \n",
       "4               5       0.0       3    0       0     0   1    0       0   \n",
       "...           ...       ...     ...  ...     ...   ...  ..  ...     ...   \n",
       "1304         1305       NaN       3    0       0     0   1    0       0   \n",
       "1305         1306       NaN       1    1       0     0   0    0       1   \n",
       "1306         1307       NaN       3    0       0     0   1    0       0   \n",
       "1307         1308       NaN       3    0       0     0   1    0       0   \n",
       "1308         1309       NaN       3    0       1     0   0    0       0   \n",
       "\n",
       "      Family  Fare-bin  Age-bin  Ticket_1  Ticket_2  Ticket_3  Ticket_4  \\\n",
       "0          2         1        4         0         0         0         1   \n",
       "1          2         5        5         0         0         0         0   \n",
       "2          1         2        4         0         0         0         0   \n",
       "3          2         5        5         1         0         0         0   \n",
       "4          1         2        5         0         0         1         0   \n",
       "...      ...       ...      ...       ...       ...       ...       ...   \n",
       "1304       1         2        4         0         0         0         1   \n",
       "1305       1         5        5         0         0         0         0   \n",
       "1306       1         1        5         0         0         0         0   \n",
       "1307       1         2        4         0         0         1         0   \n",
       "1308       3         4        1         0         1         0         0   \n",
       "\n",
       "      Ticket_C  Ticket_P  Ticket_S  \n",
       "0            0         0         0  \n",
       "1            0         1         0  \n",
       "2            0         0         1  \n",
       "3            0         0         0  \n",
       "4            0         0         0  \n",
       "...        ...       ...       ...  \n",
       "1304         0         0         0  \n",
       "1305         0         1         0  \n",
       "1306         0         0         1  \n",
       "1307         0         0         0  \n",
       "1308         0         0         0  \n",
       "\n",
       "[1309 rows x 19 columns]"
      ]
     },
     "execution_count": 68,
     "metadata": {},
     "output_type": "execute_result"
    }
   ],
   "source": [
    "df"
   ]
  },
  {
   "cell_type": "code",
   "execution_count": 69,
   "metadata": {},
   "outputs": [
    {
     "data": {
      "text/plain": [
       "PassengerId    20.0\n",
       "Survived        1.0\n",
       "Pclass          3.0\n",
       "Sex             1.0\n",
       "Master          0.0\n",
       "Miss            0.0\n",
       "Mr              0.0\n",
       "Mrs             1.0\n",
       "Others          0.0\n",
       "Family          1.0\n",
       "Fare-bin        1.0\n",
       "Age-bin         5.0\n",
       "Ticket_1        0.0\n",
       "Ticket_2        1.0\n",
       "Ticket_3        0.0\n",
       "Ticket_4        0.0\n",
       "Ticket_C        0.0\n",
       "Ticket_P        0.0\n",
       "Ticket_S        0.0\n",
       "Name: 19, dtype: float64"
      ]
     },
     "metadata": {},
     "output_type": "display_data"
    }
   ],
   "source": [
    "display(df.iloc[19]) "
   ]
  },
  {
   "cell_type": "code",
   "execution_count": 70,
   "metadata": {},
   "outputs": [
    {
     "data": {
      "text/plain": [
       "(891, 17)"
      ]
     },
     "execution_count": 70,
     "metadata": {},
     "output_type": "execute_result"
    }
   ],
   "source": [
    "X_train.shape"
   ]
  },
  {
   "cell_type": "code",
   "execution_count": 71,
   "metadata": {},
   "outputs": [
    {
     "name": "stdout",
     "output_type": "stream",
     "text": [
      "Model: \"sequential\"\n",
      "_________________________________________________________________\n",
      "Layer (type)                 Output Shape              Param #   \n",
      "=================================================================\n",
      "dense (Dense)                (None, 9)                 162       \n",
      "_________________________________________________________________\n",
      "dense_1 (Dense)              (None, 7)                 70        \n",
      "_________________________________________________________________\n",
      "dense_2 (Dense)              (None, 5)                 40        \n",
      "_________________________________________________________________\n",
      "dense_3 (Dense)              (None, 1)                 6         \n",
      "=================================================================\n",
      "Total params: 278\n",
      "Trainable params: 278\n",
      "Non-trainable params: 0\n",
      "_________________________________________________________________\n"
     ]
    }
   ],
   "source": [
    "model = Sequential()\n",
    "\n",
    "initializer = 'uniform'\n",
    "\n",
    "model.add(Dense(units = 9, kernel_initializer = initializer, activation = 'relu', input_dim = 17))\n",
    "model.add(Dense(units = 7, kernel_initializer = initializer, activation = 'relu'))\n",
    "model.add(Dense(units = 5, kernel_initializer = initializer, activation = 'relu'))\n",
    "model.add(Dense(units = 1, kernel_initializer = initializer, activation = 'sigmoid'))\n",
    "\n",
    "opt = keras.optimizers.Adam(learning_rate=0.005)\n",
    "model.compile(optimizer = opt, loss = 'binary_crossentropy', metrics = ['accuracy'])\n",
    "\n",
    "model.summary()"
   ]
  },
  {
   "cell_type": "code",
   "execution_count": 72,
   "metadata": {},
   "outputs": [
    {
     "name": "stdout",
     "output_type": "stream",
     "text": [
      "Epoch 1/200\n",
      "24/24 [==============================] - 2s 43ms/step - loss: 0.6898 - accuracy: 0.5930 - val_loss: 0.6745 - val_accuracy: 0.6425\n",
      "Epoch 2/200\n",
      "24/24 [==============================] - 0s 2ms/step - loss: 0.6670 - accuracy: 0.6126 - val_loss: 0.5724 - val_accuracy: 0.6425\n",
      "Epoch 3/200\n",
      "24/24 [==============================] - 0s 3ms/step - loss: 0.5634 - accuracy: 0.6239 - val_loss: 0.4995 - val_accuracy: 0.7989\n",
      "Epoch 4/200\n",
      "24/24 [==============================] - 0s 3ms/step - loss: 0.5399 - accuracy: 0.7963 - val_loss: 0.4221 - val_accuracy: 0.8268\n",
      "Epoch 5/200\n",
      "24/24 [==============================] - 0s 4ms/step - loss: 0.4700 - accuracy: 0.8021 - val_loss: 0.3811 - val_accuracy: 0.8492\n",
      "Epoch 6/200\n",
      "24/24 [==============================] - 0s 2ms/step - loss: 0.4468 - accuracy: 0.8194 - val_loss: 0.3910 - val_accuracy: 0.8268\n",
      "Epoch 7/200\n",
      "24/24 [==============================] - 0s 3ms/step - loss: 0.4417 - accuracy: 0.8141 - val_loss: 0.3795 - val_accuracy: 0.8492\n",
      "Epoch 8/200\n",
      "24/24 [==============================] - 0s 3ms/step - loss: 0.4405 - accuracy: 0.7986 - val_loss: 0.3764 - val_accuracy: 0.8492\n",
      "Epoch 9/200\n",
      "24/24 [==============================] - 0s 3ms/step - loss: 0.3933 - accuracy: 0.8519 - val_loss: 0.3686 - val_accuracy: 0.8492\n",
      "Epoch 10/200\n",
      "24/24 [==============================] - 0s 3ms/step - loss: 0.4478 - accuracy: 0.8036 - val_loss: 0.3668 - val_accuracy: 0.8380\n",
      "Epoch 11/200\n",
      "24/24 [==============================] - 0s 3ms/step - loss: 0.4092 - accuracy: 0.8300 - val_loss: 0.3681 - val_accuracy: 0.8436\n",
      "Epoch 12/200\n",
      "24/24 [==============================] - 0s 3ms/step - loss: 0.4328 - accuracy: 0.8183 - val_loss: 0.3691 - val_accuracy: 0.8492\n",
      "Epoch 13/200\n",
      "24/24 [==============================] - 0s 3ms/step - loss: 0.3999 - accuracy: 0.8269 - val_loss: 0.3709 - val_accuracy: 0.8492\n",
      "Epoch 14/200\n",
      "24/24 [==============================] - 0s 2ms/step - loss: 0.4418 - accuracy: 0.8061 - val_loss: 0.3672 - val_accuracy: 0.8492\n",
      "Epoch 15/200\n",
      "24/24 [==============================] - 0s 3ms/step - loss: 0.4152 - accuracy: 0.8383 - val_loss: 0.3739 - val_accuracy: 0.8492\n",
      "Epoch 16/200\n",
      "24/24 [==============================] - 0s 3ms/step - loss: 0.4361 - accuracy: 0.8105 - val_loss: 0.3669 - val_accuracy: 0.8380\n",
      "Epoch 17/200\n",
      "24/24 [==============================] - 0s 2ms/step - loss: 0.4263 - accuracy: 0.8255 - val_loss: 0.3867 - val_accuracy: 0.8324\n",
      "Epoch 18/200\n",
      "24/24 [==============================] - 0s 3ms/step - loss: 0.4468 - accuracy: 0.7989 - val_loss: 0.3676 - val_accuracy: 0.8380\n",
      "Epoch 19/200\n",
      "24/24 [==============================] - 0s 3ms/step - loss: 0.4272 - accuracy: 0.8058 - val_loss: 0.3658 - val_accuracy: 0.8492\n",
      "Epoch 20/200\n",
      "24/24 [==============================] - 0s 3ms/step - loss: 0.4468 - accuracy: 0.7886 - val_loss: 0.3647 - val_accuracy: 0.8547\n",
      "Epoch 21/200\n",
      "24/24 [==============================] - 0s 3ms/step - loss: 0.4149 - accuracy: 0.8263 - val_loss: 0.3655 - val_accuracy: 0.8603\n",
      "Epoch 22/200\n",
      "24/24 [==============================] - 0s 3ms/step - loss: 0.4083 - accuracy: 0.8378 - val_loss: 0.3775 - val_accuracy: 0.8492\n",
      "Epoch 23/200\n",
      "24/24 [==============================] - 0s 3ms/step - loss: 0.4128 - accuracy: 0.8157 - val_loss: 0.3635 - val_accuracy: 0.8436\n",
      "Epoch 24/200\n",
      "24/24 [==============================] - 0s 3ms/step - loss: 0.4108 - accuracy: 0.8377 - val_loss: 0.3607 - val_accuracy: 0.8380\n",
      "Epoch 25/200\n",
      "24/24 [==============================] - 0s 3ms/step - loss: 0.4329 - accuracy: 0.8273 - val_loss: 0.3652 - val_accuracy: 0.8492\n",
      "Epoch 26/200\n",
      "24/24 [==============================] - 0s 3ms/step - loss: 0.4237 - accuracy: 0.8280 - val_loss: 0.3590 - val_accuracy: 0.8547\n",
      "Epoch 27/200\n",
      "24/24 [==============================] - 0s 2ms/step - loss: 0.4254 - accuracy: 0.8107 - val_loss: 0.3622 - val_accuracy: 0.8547\n",
      "Epoch 28/200\n",
      "24/24 [==============================] - 0s 2ms/step - loss: 0.4543 - accuracy: 0.8165 - val_loss: 0.3639 - val_accuracy: 0.8547\n",
      "Epoch 29/200\n",
      "24/24 [==============================] - 0s 2ms/step - loss: 0.4429 - accuracy: 0.8051 - val_loss: 0.3584 - val_accuracy: 0.8603\n",
      "Epoch 30/200\n",
      "24/24 [==============================] - 0s 2ms/step - loss: 0.3998 - accuracy: 0.8309 - val_loss: 0.3766 - val_accuracy: 0.8436\n",
      "Epoch 31/200\n",
      "24/24 [==============================] - 0s 2ms/step - loss: 0.4103 - accuracy: 0.8203 - val_loss: 0.3643 - val_accuracy: 0.8603\n",
      "Epoch 32/200\n",
      "24/24 [==============================] - 0s 2ms/step - loss: 0.4104 - accuracy: 0.8150 - val_loss: 0.3654 - val_accuracy: 0.8492\n",
      "Epoch 33/200\n",
      "24/24 [==============================] - 0s 2ms/step - loss: 0.4053 - accuracy: 0.8380 - val_loss: 0.3640 - val_accuracy: 0.8603\n",
      "Epoch 34/200\n",
      "24/24 [==============================] - 0s 2ms/step - loss: 0.3980 - accuracy: 0.8397 - val_loss: 0.3606 - val_accuracy: 0.8492\n",
      "Epoch 35/200\n",
      "24/24 [==============================] - 0s 3ms/step - loss: 0.3764 - accuracy: 0.8473 - val_loss: 0.3731 - val_accuracy: 0.8436\n",
      "Epoch 36/200\n",
      "24/24 [==============================] - 0s 3ms/step - loss: 0.4049 - accuracy: 0.8188 - val_loss: 0.3631 - val_accuracy: 0.8547\n",
      "Epoch 37/200\n",
      "24/24 [==============================] - 0s 4ms/step - loss: 0.3978 - accuracy: 0.8443 - val_loss: 0.3607 - val_accuracy: 0.8547\n",
      "Epoch 38/200\n",
      "24/24 [==============================] - 0s 3ms/step - loss: 0.3906 - accuracy: 0.8477 - val_loss: 0.3627 - val_accuracy: 0.8492\n",
      "Epoch 39/200\n",
      "24/24 [==============================] - 0s 3ms/step - loss: 0.4200 - accuracy: 0.8189 - val_loss: 0.3581 - val_accuracy: 0.8603\n",
      "Epoch 40/200\n",
      "24/24 [==============================] - 0s 2ms/step - loss: 0.4078 - accuracy: 0.8454 - val_loss: 0.3647 - val_accuracy: 0.8547\n",
      "Epoch 41/200\n",
      "24/24 [==============================] - 0s 2ms/step - loss: 0.4145 - accuracy: 0.8286 - val_loss: 0.3587 - val_accuracy: 0.8603\n",
      "Epoch 42/200\n",
      "24/24 [==============================] - 0s 2ms/step - loss: 0.4312 - accuracy: 0.8262 - val_loss: 0.3649 - val_accuracy: 0.8547\n",
      "Epoch 43/200\n",
      "24/24 [==============================] - 0s 2ms/step - loss: 0.4332 - accuracy: 0.8223 - val_loss: 0.3572 - val_accuracy: 0.8547\n",
      "Epoch 44/200\n",
      "24/24 [==============================] - 0s 2ms/step - loss: 0.4040 - accuracy: 0.8307 - val_loss: 0.3610 - val_accuracy: 0.8603\n",
      "Epoch 45/200\n",
      "24/24 [==============================] - 0s 2ms/step - loss: 0.3863 - accuracy: 0.8542 - val_loss: 0.3616 - val_accuracy: 0.8547\n",
      "Epoch 46/200\n",
      "24/24 [==============================] - 0s 2ms/step - loss: 0.4111 - accuracy: 0.8341 - val_loss: 0.3588 - val_accuracy: 0.8547\n",
      "Epoch 47/200\n",
      "24/24 [==============================] - 0s 2ms/step - loss: 0.4311 - accuracy: 0.8109 - val_loss: 0.3674 - val_accuracy: 0.8603\n",
      "Epoch 48/200\n",
      "24/24 [==============================] - 0s 2ms/step - loss: 0.4300 - accuracy: 0.8156 - val_loss: 0.3724 - val_accuracy: 0.8436\n",
      "Epoch 49/200\n",
      "24/24 [==============================] - 0s 2ms/step - loss: 0.4236 - accuracy: 0.8155 - val_loss: 0.3575 - val_accuracy: 0.8492\n",
      "Epoch 50/200\n",
      "24/24 [==============================] - 0s 2ms/step - loss: 0.3889 - accuracy: 0.8522 - val_loss: 0.3586 - val_accuracy: 0.8492\n",
      "Epoch 51/200\n",
      "24/24 [==============================] - 0s 3ms/step - loss: 0.4263 - accuracy: 0.8199 - val_loss: 0.3594 - val_accuracy: 0.8603\n",
      "Epoch 52/200\n",
      "24/24 [==============================] - 0s 3ms/step - loss: 0.3956 - accuracy: 0.8381 - val_loss: 0.3600 - val_accuracy: 0.8492\n",
      "Epoch 53/200\n",
      "24/24 [==============================] - 0s 3ms/step - loss: 0.4175 - accuracy: 0.8191 - val_loss: 0.3583 - val_accuracy: 0.8547\n",
      "Epoch 54/200\n",
      "24/24 [==============================] - 0s 3ms/step - loss: 0.4309 - accuracy: 0.8063 - val_loss: 0.3586 - val_accuracy: 0.8603\n",
      "Epoch 55/200\n",
      "24/24 [==============================] - 0s 3ms/step - loss: 0.4077 - accuracy: 0.8266 - val_loss: 0.3589 - val_accuracy: 0.8547\n",
      "Epoch 56/200\n",
      "24/24 [==============================] - 0s 2ms/step - loss: 0.3867 - accuracy: 0.8399 - val_loss: 0.3619 - val_accuracy: 0.8492\n",
      "Epoch 57/200\n",
      "24/24 [==============================] - 0s 2ms/step - loss: 0.4195 - accuracy: 0.8218 - val_loss: 0.3765 - val_accuracy: 0.8436\n",
      "Epoch 58/200\n",
      "24/24 [==============================] - 0s 2ms/step - loss: 0.4656 - accuracy: 0.8103 - val_loss: 0.3641 - val_accuracy: 0.8659\n"
     ]
    },
    {
     "name": "stdout",
     "output_type": "stream",
     "text": [
      "Epoch 59/200\n",
      "24/24 [==============================] - 0s 3ms/step - loss: 0.3707 - accuracy: 0.8578 - val_loss: 0.3579 - val_accuracy: 0.8436\n",
      "Epoch 60/200\n",
      "24/24 [==============================] - 0s 2ms/step - loss: 0.3960 - accuracy: 0.8278 - val_loss: 0.3629 - val_accuracy: 0.8436\n",
      "Epoch 61/200\n",
      "24/24 [==============================] - 0s 3ms/step - loss: 0.4084 - accuracy: 0.8430 - val_loss: 0.3571 - val_accuracy: 0.8603\n",
      "Epoch 62/200\n",
      "24/24 [==============================] - 0s 2ms/step - loss: 0.4032 - accuracy: 0.8434 - val_loss: 0.3601 - val_accuracy: 0.8603\n",
      "Epoch 63/200\n",
      "24/24 [==============================] - 0s 2ms/step - loss: 0.4038 - accuracy: 0.8347 - val_loss: 0.3608 - val_accuracy: 0.8603\n",
      "Epoch 64/200\n",
      "24/24 [==============================] - 0s 2ms/step - loss: 0.4274 - accuracy: 0.8274 - val_loss: 0.3566 - val_accuracy: 0.8547\n",
      "Epoch 65/200\n",
      "24/24 [==============================] - 0s 2ms/step - loss: 0.4271 - accuracy: 0.8208 - val_loss: 0.3562 - val_accuracy: 0.8603\n",
      "Epoch 66/200\n",
      "24/24 [==============================] - 0s 2ms/step - loss: 0.4049 - accuracy: 0.8303 - val_loss: 0.3565 - val_accuracy: 0.8547\n",
      "Epoch 67/200\n",
      "24/24 [==============================] - 0s 3ms/step - loss: 0.4457 - accuracy: 0.8198 - val_loss: 0.3579 - val_accuracy: 0.8547\n",
      "Epoch 68/200\n",
      "24/24 [==============================] - 0s 2ms/step - loss: 0.3998 - accuracy: 0.8479 - val_loss: 0.3587 - val_accuracy: 0.8547\n",
      "Epoch 69/200\n",
      "24/24 [==============================] - 0s 3ms/step - loss: 0.4066 - accuracy: 0.8258 - val_loss: 0.3592 - val_accuracy: 0.8547\n",
      "Epoch 70/200\n",
      "24/24 [==============================] - 0s 3ms/step - loss: 0.4045 - accuracy: 0.8382 - val_loss: 0.3564 - val_accuracy: 0.8547\n",
      "Epoch 71/200\n",
      "24/24 [==============================] - 0s 3ms/step - loss: 0.4047 - accuracy: 0.8249 - val_loss: 0.3614 - val_accuracy: 0.8547\n",
      "Epoch 72/200\n",
      "24/24 [==============================] - 0s 2ms/step - loss: 0.4027 - accuracy: 0.8224 - val_loss: 0.3631 - val_accuracy: 0.8492\n",
      "Epoch 73/200\n",
      "24/24 [==============================] - 0s 2ms/step - loss: 0.4218 - accuracy: 0.8280 - val_loss: 0.3631 - val_accuracy: 0.8603\n",
      "Epoch 74/200\n",
      "24/24 [==============================] - 0s 2ms/step - loss: 0.4491 - accuracy: 0.8040 - val_loss: 0.3633 - val_accuracy: 0.8603\n",
      "Epoch 75/200\n",
      "24/24 [==============================] - 0s 2ms/step - loss: 0.4363 - accuracy: 0.8159 - val_loss: 0.3641 - val_accuracy: 0.8603\n",
      "Epoch 76/200\n",
      "24/24 [==============================] - 0s 2ms/step - loss: 0.4269 - accuracy: 0.8258 - val_loss: 0.3586 - val_accuracy: 0.8547\n",
      "Epoch 77/200\n",
      "24/24 [==============================] - 0s 3ms/step - loss: 0.3886 - accuracy: 0.8421 - val_loss: 0.3588 - val_accuracy: 0.8547\n",
      "Epoch 78/200\n",
      "24/24 [==============================] - 0s 2ms/step - loss: 0.4013 - accuracy: 0.8155 - val_loss: 0.3574 - val_accuracy: 0.8547\n",
      "Epoch 79/200\n",
      "24/24 [==============================] - 0s 3ms/step - loss: 0.4273 - accuracy: 0.8325 - val_loss: 0.3596 - val_accuracy: 0.8547\n",
      "Epoch 80/200\n",
      "24/24 [==============================] - 0s 2ms/step - loss: 0.4003 - accuracy: 0.8185 - val_loss: 0.3570 - val_accuracy: 0.8547\n",
      "Epoch 81/200\n",
      "24/24 [==============================] - 0s 2ms/step - loss: 0.3839 - accuracy: 0.8423 - val_loss: 0.3572 - val_accuracy: 0.8492\n",
      "Epoch 82/200\n",
      "24/24 [==============================] - 0s 2ms/step - loss: 0.4013 - accuracy: 0.8397 - val_loss: 0.3654 - val_accuracy: 0.8436\n",
      "Epoch 83/200\n",
      "24/24 [==============================] - 0s 3ms/step - loss: 0.4290 - accuracy: 0.8071 - val_loss: 0.3560 - val_accuracy: 0.8492\n",
      "Epoch 84/200\n",
      "24/24 [==============================] - 0s 3ms/step - loss: 0.4386 - accuracy: 0.8120 - val_loss: 0.3624 - val_accuracy: 0.8547\n",
      "Epoch 85/200\n",
      "24/24 [==============================] - 0s 2ms/step - loss: 0.3796 - accuracy: 0.8501 - val_loss: 0.3557 - val_accuracy: 0.8547\n",
      "Epoch 86/200\n",
      "24/24 [==============================] - 0s 2ms/step - loss: 0.3612 - accuracy: 0.8514 - val_loss: 0.3618 - val_accuracy: 0.8547\n",
      "Epoch 87/200\n",
      "24/24 [==============================] - 0s 2ms/step - loss: 0.3998 - accuracy: 0.8256 - val_loss: 0.3566 - val_accuracy: 0.8436\n",
      "Epoch 88/200\n",
      "24/24 [==============================] - 0s 3ms/step - loss: 0.4254 - accuracy: 0.8251 - val_loss: 0.3615 - val_accuracy: 0.8492\n",
      "Epoch 89/200\n",
      "24/24 [==============================] - 0s 2ms/step - loss: 0.4560 - accuracy: 0.8030 - val_loss: 0.3521 - val_accuracy: 0.8547\n",
      "Epoch 90/200\n",
      "24/24 [==============================] - 0s 2ms/step - loss: 0.4029 - accuracy: 0.8242 - val_loss: 0.3567 - val_accuracy: 0.8715\n",
      "Epoch 91/200\n",
      "24/24 [==============================] - 0s 3ms/step - loss: 0.3876 - accuracy: 0.8493 - val_loss: 0.3577 - val_accuracy: 0.8436\n",
      "Epoch 92/200\n",
      "24/24 [==============================] - 0s 2ms/step - loss: 0.3976 - accuracy: 0.8296 - val_loss: 0.3602 - val_accuracy: 0.8436\n",
      "Epoch 93/200\n",
      "24/24 [==============================] - 0s 2ms/step - loss: 0.3994 - accuracy: 0.8299 - val_loss: 0.3542 - val_accuracy: 0.8547\n",
      "Epoch 94/200\n",
      "24/24 [==============================] - 0s 2ms/step - loss: 0.4031 - accuracy: 0.8322 - val_loss: 0.3584 - val_accuracy: 0.8436\n",
      "Epoch 95/200\n",
      "24/24 [==============================] - 0s 2ms/step - loss: 0.3864 - accuracy: 0.8355 - val_loss: 0.3575 - val_accuracy: 0.8436\n",
      "Epoch 96/200\n",
      "24/24 [==============================] - 0s 2ms/step - loss: 0.4370 - accuracy: 0.8143 - val_loss: 0.3639 - val_accuracy: 0.8547\n",
      "Epoch 97/200\n",
      "24/24 [==============================] - 0s 2ms/step - loss: 0.4186 - accuracy: 0.8061 - val_loss: 0.3824 - val_accuracy: 0.8436\n",
      "Epoch 98/200\n",
      "24/24 [==============================] - 0s 2ms/step - loss: 0.4189 - accuracy: 0.8178 - val_loss: 0.3598 - val_accuracy: 0.8603\n",
      "Epoch 99/200\n",
      "24/24 [==============================] - 0s 2ms/step - loss: 0.3814 - accuracy: 0.8354 - val_loss: 0.3565 - val_accuracy: 0.8492\n",
      "Epoch 100/200\n",
      "24/24 [==============================] - 0s 2ms/step - loss: 0.3675 - accuracy: 0.8636 - val_loss: 0.3588 - val_accuracy: 0.8492\n",
      "Epoch 101/200\n",
      "24/24 [==============================] - 0s 3ms/step - loss: 0.3756 - accuracy: 0.8498 - val_loss: 0.3586 - val_accuracy: 0.8547\n",
      "Epoch 102/200\n",
      "24/24 [==============================] - 0s 2ms/step - loss: 0.3819 - accuracy: 0.8516 - val_loss: 0.3564 - val_accuracy: 0.8492\n",
      "Epoch 103/200\n",
      "24/24 [==============================] - 0s 2ms/step - loss: 0.4207 - accuracy: 0.8286 - val_loss: 0.3539 - val_accuracy: 0.8547\n",
      "Epoch 104/200\n",
      "24/24 [==============================] - 0s 3ms/step - loss: 0.3981 - accuracy: 0.8351 - val_loss: 0.3539 - val_accuracy: 0.8436\n",
      "Epoch 105/200\n",
      "24/24 [==============================] - 0s 2ms/step - loss: 0.4163 - accuracy: 0.8233 - val_loss: 0.3551 - val_accuracy: 0.8436\n",
      "Epoch 106/200\n",
      "24/24 [==============================] - 0s 2ms/step - loss: 0.3952 - accuracy: 0.8443 - val_loss: 0.3535 - val_accuracy: 0.8547\n",
      "Epoch 107/200\n",
      "24/24 [==============================] - 0s 3ms/step - loss: 0.4283 - accuracy: 0.8296 - val_loss: 0.3586 - val_accuracy: 0.8436\n",
      "Epoch 108/200\n",
      "24/24 [==============================] - 0s 2ms/step - loss: 0.4071 - accuracy: 0.8343 - val_loss: 0.3529 - val_accuracy: 0.8492\n",
      "Epoch 109/200\n",
      "24/24 [==============================] - 0s 2ms/step - loss: 0.4216 - accuracy: 0.8155 - val_loss: 0.3588 - val_accuracy: 0.8547\n",
      "Epoch 110/200\n",
      "24/24 [==============================] - 0s 3ms/step - loss: 0.4091 - accuracy: 0.8291 - val_loss: 0.3572 - val_accuracy: 0.8436\n",
      "Epoch 111/200\n",
      "24/24 [==============================] - 0s 3ms/step - loss: 0.3876 - accuracy: 0.8507 - val_loss: 0.3529 - val_accuracy: 0.8492\n",
      "Epoch 112/200\n",
      "24/24 [==============================] - 0s 3ms/step - loss: 0.4254 - accuracy: 0.8292 - val_loss: 0.3559 - val_accuracy: 0.8492\n",
      "Epoch 113/200\n",
      "24/24 [==============================] - 0s 3ms/step - loss: 0.3969 - accuracy: 0.8302 - val_loss: 0.3624 - val_accuracy: 0.8547\n",
      "Epoch 114/200\n",
      "24/24 [==============================] - 0s 3ms/step - loss: 0.3834 - accuracy: 0.8291 - val_loss: 0.3572 - val_accuracy: 0.8547\n",
      "Epoch 115/200\n",
      "24/24 [==============================] - 0s 2ms/step - loss: 0.4123 - accuracy: 0.8233 - val_loss: 0.3527 - val_accuracy: 0.8492\n",
      "Epoch 116/200\n"
     ]
    },
    {
     "name": "stdout",
     "output_type": "stream",
     "text": [
      "24/24 [==============================] - 0s 3ms/step - loss: 0.4062 - accuracy: 0.8320 - val_loss: 0.3555 - val_accuracy: 0.8436\n",
      "Epoch 117/200\n",
      "24/24 [==============================] - 0s 3ms/step - loss: 0.4272 - accuracy: 0.8211 - val_loss: 0.3541 - val_accuracy: 0.8492\n",
      "Epoch 118/200\n",
      "24/24 [==============================] - 0s 2ms/step - loss: 0.3903 - accuracy: 0.8238 - val_loss: 0.3522 - val_accuracy: 0.8492\n",
      "Epoch 119/200\n",
      "24/24 [==============================] - 0s 2ms/step - loss: 0.4183 - accuracy: 0.8135 - val_loss: 0.3542 - val_accuracy: 0.8436\n",
      "Epoch 120/200\n",
      "24/24 [==============================] - 0s 3ms/step - loss: 0.3855 - accuracy: 0.8291 - val_loss: 0.3504 - val_accuracy: 0.8492\n",
      "Epoch 121/200\n",
      "24/24 [==============================] - 0s 3ms/step - loss: 0.4122 - accuracy: 0.8388 - val_loss: 0.3474 - val_accuracy: 0.8547\n",
      "Epoch 122/200\n",
      "24/24 [==============================] - 0s 3ms/step - loss: 0.3996 - accuracy: 0.8263 - val_loss: 0.3572 - val_accuracy: 0.8547\n",
      "Epoch 123/200\n",
      "24/24 [==============================] - 0s 2ms/step - loss: 0.4336 - accuracy: 0.8152 - val_loss: 0.3484 - val_accuracy: 0.8547\n",
      "Epoch 124/200\n",
      "24/24 [==============================] - 0s 3ms/step - loss: 0.4107 - accuracy: 0.8192 - val_loss: 0.3507 - val_accuracy: 0.8492\n",
      "Epoch 125/200\n",
      "24/24 [==============================] - 0s 2ms/step - loss: 0.3864 - accuracy: 0.8338 - val_loss: 0.3515 - val_accuracy: 0.8492\n",
      "Epoch 126/200\n",
      "24/24 [==============================] - 0s 2ms/step - loss: 0.3890 - accuracy: 0.8344 - val_loss: 0.3589 - val_accuracy: 0.8492\n",
      "Epoch 127/200\n",
      "24/24 [==============================] - 0s 3ms/step - loss: 0.4094 - accuracy: 0.8303 - val_loss: 0.3476 - val_accuracy: 0.8603\n",
      "Epoch 128/200\n",
      "24/24 [==============================] - 0s 3ms/step - loss: 0.3874 - accuracy: 0.8344 - val_loss: 0.3487 - val_accuracy: 0.8436\n",
      "Epoch 129/200\n",
      "24/24 [==============================] - 0s 3ms/step - loss: 0.4136 - accuracy: 0.8168 - val_loss: 0.3487 - val_accuracy: 0.8492\n",
      "Epoch 130/200\n",
      "24/24 [==============================] - 0s 3ms/step - loss: 0.4015 - accuracy: 0.8426 - val_loss: 0.3650 - val_accuracy: 0.8547\n",
      "Epoch 131/200\n",
      "24/24 [==============================] - 0s 3ms/step - loss: 0.4025 - accuracy: 0.8253 - val_loss: 0.3506 - val_accuracy: 0.8603\n",
      "Epoch 132/200\n",
      "24/24 [==============================] - 0s 3ms/step - loss: 0.4170 - accuracy: 0.8209 - val_loss: 0.3498 - val_accuracy: 0.8492\n",
      "Epoch 133/200\n",
      "24/24 [==============================] - 0s 3ms/step - loss: 0.3695 - accuracy: 0.8453 - val_loss: 0.3473 - val_accuracy: 0.8547\n",
      "Epoch 134/200\n",
      "24/24 [==============================] - 0s 2ms/step - loss: 0.3442 - accuracy: 0.8444 - val_loss: 0.3506 - val_accuracy: 0.8492\n",
      "Epoch 135/200\n",
      "24/24 [==============================] - 0s 3ms/step - loss: 0.3649 - accuracy: 0.8519 - val_loss: 0.3491 - val_accuracy: 0.8492\n",
      "Epoch 136/200\n",
      "24/24 [==============================] - 0s 3ms/step - loss: 0.4160 - accuracy: 0.8107 - val_loss: 0.3459 - val_accuracy: 0.8547\n",
      "Epoch 137/200\n",
      "24/24 [==============================] - 0s 3ms/step - loss: 0.3706 - accuracy: 0.8384 - val_loss: 0.3610 - val_accuracy: 0.8603\n",
      "Epoch 138/200\n",
      "24/24 [==============================] - 0s 2ms/step - loss: 0.3895 - accuracy: 0.8321 - val_loss: 0.3500 - val_accuracy: 0.8492\n",
      "Epoch 139/200\n",
      "24/24 [==============================] - 0s 2ms/step - loss: 0.3718 - accuracy: 0.8472 - val_loss: 0.3476 - val_accuracy: 0.8603\n",
      "Epoch 140/200\n",
      "24/24 [==============================] - 0s 2ms/step - loss: 0.4129 - accuracy: 0.8253 - val_loss: 0.3437 - val_accuracy: 0.8492\n",
      "Epoch 141/200\n",
      "24/24 [==============================] - 0s 2ms/step - loss: 0.4025 - accuracy: 0.8293 - val_loss: 0.3422 - val_accuracy: 0.8603\n",
      "Epoch 142/200\n",
      "24/24 [==============================] - 0s 2ms/step - loss: 0.4035 - accuracy: 0.8440 - val_loss: 0.3474 - val_accuracy: 0.8659\n",
      "Epoch 143/200\n",
      "24/24 [==============================] - 0s 3ms/step - loss: 0.4291 - accuracy: 0.8090 - val_loss: 0.3468 - val_accuracy: 0.8547\n",
      "Epoch 144/200\n",
      "24/24 [==============================] - 0s 2ms/step - loss: 0.3768 - accuracy: 0.8478 - val_loss: 0.3413 - val_accuracy: 0.8603\n",
      "Epoch 145/200\n",
      "24/24 [==============================] - 0s 3ms/step - loss: 0.3949 - accuracy: 0.8054 - val_loss: 0.3464 - val_accuracy: 0.8659\n",
      "Epoch 146/200\n",
      "24/24 [==============================] - 0s 4ms/step - loss: 0.3654 - accuracy: 0.8424 - val_loss: 0.3448 - val_accuracy: 0.8603\n",
      "Epoch 147/200\n",
      "24/24 [==============================] - 0s 4ms/step - loss: 0.4024 - accuracy: 0.8231 - val_loss: 0.3435 - val_accuracy: 0.8547\n",
      "Epoch 148/200\n",
      "24/24 [==============================] - 0s 2ms/step - loss: 0.3894 - accuracy: 0.8432 - val_loss: 0.3402 - val_accuracy: 0.8603\n",
      "Epoch 149/200\n",
      "24/24 [==============================] - 0s 2ms/step - loss: 0.4101 - accuracy: 0.8232 - val_loss: 0.3474 - val_accuracy: 0.8492\n",
      "Epoch 150/200\n",
      "24/24 [==============================] - 0s 3ms/step - loss: 0.4255 - accuracy: 0.8195 - val_loss: 0.3428 - val_accuracy: 0.8492\n",
      "Epoch 151/200\n",
      "24/24 [==============================] - 0s 2ms/step - loss: 0.4044 - accuracy: 0.8118 - val_loss: 0.3393 - val_accuracy: 0.8603\n",
      "Epoch 152/200\n",
      "24/24 [==============================] - 0s 3ms/step - loss: 0.4104 - accuracy: 0.8212 - val_loss: 0.3491 - val_accuracy: 0.8603\n",
      "Epoch 153/200\n",
      "24/24 [==============================] - 0s 3ms/step - loss: 0.3926 - accuracy: 0.8299 - val_loss: 0.3443 - val_accuracy: 0.8492\n",
      "Epoch 154/200\n",
      "24/24 [==============================] - 0s 2ms/step - loss: 0.3943 - accuracy: 0.8240 - val_loss: 0.3421 - val_accuracy: 0.8547\n",
      "Epoch 155/200\n",
      "24/24 [==============================] - 0s 2ms/step - loss: 0.3954 - accuracy: 0.8295 - val_loss: 0.3512 - val_accuracy: 0.8436\n",
      "Epoch 156/200\n",
      "24/24 [==============================] - 0s 2ms/step - loss: 0.4215 - accuracy: 0.8114 - val_loss: 0.3411 - val_accuracy: 0.8659\n",
      "Epoch 157/200\n",
      "24/24 [==============================] - 0s 3ms/step - loss: 0.4075 - accuracy: 0.8178 - val_loss: 0.3381 - val_accuracy: 0.8659\n",
      "Epoch 158/200\n",
      "24/24 [==============================] - 0s 3ms/step - loss: 0.3866 - accuracy: 0.8428 - val_loss: 0.3367 - val_accuracy: 0.8547\n",
      "Epoch 159/200\n",
      "24/24 [==============================] - 0s 3ms/step - loss: 0.3632 - accuracy: 0.8561 - val_loss: 0.3418 - val_accuracy: 0.8659\n",
      "Epoch 160/200\n",
      "24/24 [==============================] - 0s 3ms/step - loss: 0.3902 - accuracy: 0.8206 - val_loss: 0.3460 - val_accuracy: 0.8715\n",
      "Epoch 161/200\n",
      "24/24 [==============================] - 0s 3ms/step - loss: 0.3795 - accuracy: 0.8281 - val_loss: 0.3369 - val_accuracy: 0.8659\n",
      "Epoch 162/200\n",
      "24/24 [==============================] - 0s 2ms/step - loss: 0.3955 - accuracy: 0.8293 - val_loss: 0.3476 - val_accuracy: 0.8715\n",
      "Epoch 163/200\n",
      "24/24 [==============================] - 0s 2ms/step - loss: 0.3976 - accuracy: 0.8190 - val_loss: 0.3368 - val_accuracy: 0.8603\n",
      "Epoch 164/200\n",
      "24/24 [==============================] - 0s 3ms/step - loss: 0.3880 - accuracy: 0.8360 - val_loss: 0.3392 - val_accuracy: 0.8603\n",
      "Epoch 165/200\n",
      "24/24 [==============================] - 0s 4ms/step - loss: 0.3984 - accuracy: 0.8230 - val_loss: 0.3364 - val_accuracy: 0.8659\n",
      "Epoch 166/200\n",
      "24/24 [==============================] - 0s 3ms/step - loss: 0.4102 - accuracy: 0.8269 - val_loss: 0.3347 - val_accuracy: 0.8547\n",
      "Epoch 167/200\n",
      "24/24 [==============================] - 0s 2ms/step - loss: 0.3821 - accuracy: 0.8408 - val_loss: 0.3348 - val_accuracy: 0.8603\n",
      "Epoch 168/200\n",
      "24/24 [==============================] - 0s 2ms/step - loss: 0.4183 - accuracy: 0.8115 - val_loss: 0.3373 - val_accuracy: 0.8603\n",
      "Epoch 169/200\n",
      "24/24 [==============================] - 0s 2ms/step - loss: 0.4348 - accuracy: 0.8001 - val_loss: 0.3389 - val_accuracy: 0.8715\n",
      "Epoch 170/200\n",
      "24/24 [==============================] - 0s 3ms/step - loss: 0.4062 - accuracy: 0.8228 - val_loss: 0.3352 - val_accuracy: 0.8492\n",
      "Epoch 171/200\n",
      "24/24 [==============================] - 0s 2ms/step - loss: 0.3706 - accuracy: 0.8370 - val_loss: 0.3365 - val_accuracy: 0.8547\n",
      "Epoch 172/200\n",
      "24/24 [==============================] - 0s 2ms/step - loss: 0.4376 - accuracy: 0.8083 - val_loss: 0.3380 - val_accuracy: 0.8492\n",
      "Epoch 173/200\n"
     ]
    },
    {
     "name": "stdout",
     "output_type": "stream",
     "text": [
      "24/24 [==============================] - 0s 2ms/step - loss: 0.4376 - accuracy: 0.8150 - val_loss: 0.3367 - val_accuracy: 0.8603\n",
      "Epoch 174/200\n",
      "24/24 [==============================] - 0s 2ms/step - loss: 0.3913 - accuracy: 0.8269 - val_loss: 0.3358 - val_accuracy: 0.8436\n",
      "Epoch 175/200\n",
      "24/24 [==============================] - 0s 3ms/step - loss: 0.3735 - accuracy: 0.8344 - val_loss: 0.3419 - val_accuracy: 0.8547\n",
      "Epoch 176/200\n",
      "24/24 [==============================] - 0s 3ms/step - loss: 0.4041 - accuracy: 0.8245 - val_loss: 0.3398 - val_accuracy: 0.8603\n",
      "Epoch 177/200\n",
      "24/24 [==============================] - 0s 3ms/step - loss: 0.3681 - accuracy: 0.8473 - val_loss: 0.3366 - val_accuracy: 0.8492\n",
      "Epoch 178/200\n",
      "24/24 [==============================] - 0s 2ms/step - loss: 0.4144 - accuracy: 0.8250 - val_loss: 0.3360 - val_accuracy: 0.8547\n",
      "Epoch 179/200\n",
      "24/24 [==============================] - 0s 2ms/step - loss: 0.3879 - accuracy: 0.8326 - val_loss: 0.3442 - val_accuracy: 0.8659\n",
      "Epoch 180/200\n",
      "24/24 [==============================] - 0s 2ms/step - loss: 0.3972 - accuracy: 0.8402 - val_loss: 0.3341 - val_accuracy: 0.8547\n",
      "Epoch 181/200\n",
      "24/24 [==============================] - 0s 4ms/step - loss: 0.3881 - accuracy: 0.8359 - val_loss: 0.3362 - val_accuracy: 0.8603\n",
      "Epoch 182/200\n",
      "24/24 [==============================] - 0s 3ms/step - loss: 0.3722 - accuracy: 0.8398 - val_loss: 0.3372 - val_accuracy: 0.8492\n",
      "Epoch 183/200\n",
      "24/24 [==============================] - 0s 2ms/step - loss: 0.4200 - accuracy: 0.7952 - val_loss: 0.3455 - val_accuracy: 0.8492\n",
      "Epoch 184/200\n",
      "24/24 [==============================] - 0s 2ms/step - loss: 0.4028 - accuracy: 0.8162 - val_loss: 0.3353 - val_accuracy: 0.8547\n",
      "Epoch 185/200\n",
      "24/24 [==============================] - 0s 3ms/step - loss: 0.3933 - accuracy: 0.8226 - val_loss: 0.3382 - val_accuracy: 0.8603\n",
      "Epoch 186/200\n",
      "24/24 [==============================] - 0s 3ms/step - loss: 0.4277 - accuracy: 0.8148 - val_loss: 0.3347 - val_accuracy: 0.8492\n",
      "Epoch 187/200\n",
      "24/24 [==============================] - 0s 3ms/step - loss: 0.3927 - accuracy: 0.8461 - val_loss: 0.3414 - val_accuracy: 0.8492\n",
      "Epoch 188/200\n",
      "24/24 [==============================] - 0s 2ms/step - loss: 0.4562 - accuracy: 0.7913 - val_loss: 0.3355 - val_accuracy: 0.8603\n",
      "Epoch 189/200\n",
      "24/24 [==============================] - 0s 4ms/step - loss: 0.3929 - accuracy: 0.8256 - val_loss: 0.3354 - val_accuracy: 0.8547\n",
      "Epoch 190/200\n",
      "24/24 [==============================] - 0s 2ms/step - loss: 0.3435 - accuracy: 0.8669 - val_loss: 0.3360 - val_accuracy: 0.8603\n",
      "Epoch 191/200\n",
      "24/24 [==============================] - 0s 3ms/step - loss: 0.3789 - accuracy: 0.8320 - val_loss: 0.3382 - val_accuracy: 0.8492\n",
      "Epoch 192/200\n",
      "24/24 [==============================] - 0s 3ms/step - loss: 0.3881 - accuracy: 0.8400 - val_loss: 0.3532 - val_accuracy: 0.8659\n",
      "Epoch 193/200\n",
      "24/24 [==============================] - 0s 4ms/step - loss: 0.3849 - accuracy: 0.8459 - val_loss: 0.3354 - val_accuracy: 0.8603\n",
      "Epoch 194/200\n",
      "24/24 [==============================] - 0s 3ms/step - loss: 0.4167 - accuracy: 0.8092 - val_loss: 0.3344 - val_accuracy: 0.8547\n",
      "Epoch 195/200\n",
      "24/24 [==============================] - 0s 3ms/step - loss: 0.4264 - accuracy: 0.8195 - val_loss: 0.3394 - val_accuracy: 0.8603\n",
      "Epoch 196/200\n",
      "24/24 [==============================] - 0s 3ms/step - loss: 0.3938 - accuracy: 0.8296 - val_loss: 0.3451 - val_accuracy: 0.8659\n",
      "Epoch 197/200\n",
      "24/24 [==============================] - 0s 3ms/step - loss: 0.4304 - accuracy: 0.8218 - val_loss: 0.3416 - val_accuracy: 0.8659\n",
      "Epoch 198/200\n",
      "24/24 [==============================] - 0s 3ms/step - loss: 0.3798 - accuracy: 0.8254 - val_loss: 0.3587 - val_accuracy: 0.8603\n",
      "Epoch 199/200\n",
      "24/24 [==============================] - 0s 3ms/step - loss: 0.3839 - accuracy: 0.8332 - val_loss: 0.3429 - val_accuracy: 0.8603\n",
      "Epoch 200/200\n",
      "24/24 [==============================] - 0s 2ms/step - loss: 0.4204 - accuracy: 0.8057 - val_loss: 0.3343 - val_accuracy: 0.8603\n"
     ]
    }
   ],
   "source": [
    "# Train the ANN\n",
    "history = model.fit(X_train, y_train, validation_split=0.20, batch_size = 30, epochs = 200)"
   ]
  },
  {
   "cell_type": "code",
   "execution_count": 73,
   "metadata": {},
   "outputs": [
    {
     "data": {
      "image/png": "[encoded data removed]",
      "text/plain": [
       "<Figure size 432x288 with 1 Axes>"
      ]
     },
     "metadata": {
      "needs_background": "light"
     },
     "output_type": "display_data"
    }
   ],
   "source": [
    "plt.plot(history.history['accuracy'])\n",
    "plt.plot(history.history['val_accuracy'])\n",
    "plt.title('model accuracy')\n",
    "plt.ylabel('accuracy')\n",
    "plt.xlabel('epoch')\n",
    "plt.legend(['train', 'test'], loc='upper left')\n",
    "plt.show()"
   ]
  },
  {
   "cell_type": "code",
   "execution_count": 74,
   "metadata": {},
   "outputs": [
    {
     "data": {
      "image/png": "[encoded data removed]",
      "text/plain": [
       "<Figure size 432x288 with 1 Axes>"
      ]
     },
     "metadata": {
      "needs_background": "light"
     },
     "output_type": "display_data"
    }
   ],
   "source": [
    "plt.plot(history.history['loss'])\n",
    "plt.plot(history.history['val_loss'])\n",
    "plt.title('model loss')\n",
    "plt.ylabel('loss')\n",
    "plt.xlabel('epoch')\n",
    "plt.legend(['train', 'test'], loc='upper left')\n",
    "plt.show()"
   ]
  },
  {
   "cell_type": "code",
   "execution_count": 75,
   "metadata": {},
   "outputs": [
    {
     "name": "stdout",
     "output_type": "stream",
     "text": [
      "85.28\n"
     ]
    }
   ],
   "source": [
    "from sklearn.ensemble import RandomForestClassifier\n",
    "from sklearn.metrics import accuracy_score\n",
    "\n",
    "\n",
    "randomforest = RandomForestClassifier()\n",
    "randomforest.fit(x_Rtrain, y_Rtrain)\n",
    "y_pred = randomforest.predict(x_Rval)\n",
    "acc_randomforest = round(accuracy_score(y_pred, y_Rval) * 100, 2)\n",
    "print(acc_randomforest)"
   ]
  },
  {
   "cell_type": "code",
   "execution_count": 76,
   "metadata": {},
   "outputs": [],
   "source": [
    "#y_pred = randomforest.predict(X_test)\n",
    "\n",
    "#output = pd.DataFrame({'PassengerId': df_test['PassengerId'], 'Survived': y_pred})\n",
    "#output.to_csv('prediction_RF_new.csv', index=False)"
   ]
  },
  {
   "cell_type": "code",
   "execution_count": 77,
   "metadata": {},
   "outputs": [],
   "source": [
    "#y_pred = model.predict(X_test)\n",
    "#y_final = (y_pred > 0.5).astype(int).reshape(X_test.shape[0])\n",
    "\n",
    "#output = pd.DataFrame({'PassengerId': df_test['PassengerId'], 'Survived': y_final})\n",
    "#output.to_csv('prediction_new.csv', index=False)"
   ]
  },
  {
   "cell_type": "code",
   "execution_count": 78,
   "metadata": {},
   "outputs": [],
   "source": [
    "df_result = pd.read_csv('submission.csv')"
   ]
  },
  {
   "cell_type": "code",
   "execution_count": 79,
   "metadata": {},
   "outputs": [],
   "source": [
    "df_result_analysis = pd.concat([df_test,df_result['Survived'] ], axis=1)"
   ]
  },
  {
   "cell_type": "code",
   "execution_count": 80,
   "metadata": {},
   "outputs": [
    {
     "data": {
      "text/html": [
       "<div>\n",
       "<style scoped>\n",
       "    .dataframe tbody tr th:only-of-type {\n",
       "        vertical-align: middle;\n",
       "    }\n",
       "\n",
       "    .dataframe tbody tr th {\n",
       "        vertical-align: top;\n",
       "    }\n",
       "\n",
       "    .dataframe thead th {\n",
       "        text-align: right;\n",
       "    }\n",
       "</style>\n",
       "<table border=\"1\" class=\"dataframe\">\n",
       "  <thead>\n",
       "    <tr style=\"text-align: right;\">\n",
       "      <th></th>\n",
       "      <th>PassengerId</th>\n",
       "      <th>Pclass</th>\n",
       "      <th>Name</th>\n",
       "      <th>Sex</th>\n",
       "      <th>Age</th>\n",
       "      <th>SibSp</th>\n",
       "      <th>Parch</th>\n",
       "      <th>Ticket</th>\n",
       "      <th>Fare</th>\n",
       "      <th>Cabin</th>\n",
       "      <th>Embarked</th>\n",
       "      <th>Survived</th>\n",
       "    </tr>\n",
       "  </thead>\n",
       "  <tbody>\n",
       "    <tr>\n",
       "      <th>0</th>\n",
       "      <td>892</td>\n",
       "      <td>3</td>\n",
       "      <td>Kelly, Mr. James</td>\n",
       "      <td>male</td>\n",
       "      <td>34.5</td>\n",
       "      <td>0</td>\n",
       "      <td>0</td>\n",
       "      <td>330911</td>\n",
       "      <td>7.8292</td>\n",
       "      <td>NaN</td>\n",
       "      <td>Q</td>\n",
       "      <td>0</td>\n",
       "    </tr>\n",
       "    <tr>\n",
       "      <th>1</th>\n",
       "      <td>893</td>\n",
       "      <td>3</td>\n",
       "      <td>Wilkes, Mrs. James (Ellen Needs)</td>\n",
       "      <td>female</td>\n",
       "      <td>47.0</td>\n",
       "      <td>1</td>\n",
       "      <td>0</td>\n",
       "      <td>363272</td>\n",
       "      <td>7.0000</td>\n",
       "      <td>NaN</td>\n",
       "      <td>S</td>\n",
       "      <td>1</td>\n",
       "    </tr>\n",
       "    <tr>\n",
       "      <th>2</th>\n",
       "      <td>894</td>\n",
       "      <td>2</td>\n",
       "      <td>Myles, Mr. Thomas Francis</td>\n",
       "      <td>male</td>\n",
       "      <td>62.0</td>\n",
       "      <td>0</td>\n",
       "      <td>0</td>\n",
       "      <td>240276</td>\n",
       "      <td>9.6875</td>\n",
       "      <td>NaN</td>\n",
       "      <td>Q</td>\n",
       "      <td>0</td>\n",
       "    </tr>\n",
       "    <tr>\n",
       "      <th>3</th>\n",
       "      <td>895</td>\n",
       "      <td>3</td>\n",
       "      <td>Wirz, Mr. Albert</td>\n",
       "      <td>male</td>\n",
       "      <td>27.0</td>\n",
       "      <td>0</td>\n",
       "      <td>0</td>\n",
       "      <td>315154</td>\n",
       "      <td>8.6625</td>\n",
       "      <td>NaN</td>\n",
       "      <td>S</td>\n",
       "      <td>0</td>\n",
       "    </tr>\n",
       "    <tr>\n",
       "      <th>4</th>\n",
       "      <td>896</td>\n",
       "      <td>3</td>\n",
       "      <td>Hirvonen, Mrs. Alexander (Helga E Lindqvist)</td>\n",
       "      <td>female</td>\n",
       "      <td>22.0</td>\n",
       "      <td>1</td>\n",
       "      <td>1</td>\n",
       "      <td>3101298</td>\n",
       "      <td>12.2875</td>\n",
       "      <td>NaN</td>\n",
       "      <td>S</td>\n",
       "      <td>0</td>\n",
       "    </tr>\n",
       "    <tr>\n",
       "      <th>...</th>\n",
       "      <td>...</td>\n",
       "      <td>...</td>\n",
       "      <td>...</td>\n",
       "      <td>...</td>\n",
       "      <td>...</td>\n",
       "      <td>...</td>\n",
       "      <td>...</td>\n",
       "      <td>...</td>\n",
       "      <td>...</td>\n",
       "      <td>...</td>\n",
       "      <td>...</td>\n",
       "      <td>...</td>\n",
       "    </tr>\n",
       "    <tr>\n",
       "      <th>413</th>\n",
       "      <td>1305</td>\n",
       "      <td>3</td>\n",
       "      <td>Spector, Mr. Woolf</td>\n",
       "      <td>male</td>\n",
       "      <td>NaN</td>\n",
       "      <td>0</td>\n",
       "      <td>0</td>\n",
       "      <td>A.5. 3236</td>\n",
       "      <td>8.0500</td>\n",
       "      <td>NaN</td>\n",
       "      <td>S</td>\n",
       "      <td>0</td>\n",
       "    </tr>\n",
       "    <tr>\n",
       "      <th>414</th>\n",
       "      <td>1306</td>\n",
       "      <td>1</td>\n",
       "      <td>Oliva y Ocana, Dona. Fermina</td>\n",
       "      <td>female</td>\n",
       "      <td>39.0</td>\n",
       "      <td>0</td>\n",
       "      <td>0</td>\n",
       "      <td>PC 17758</td>\n",
       "      <td>108.9000</td>\n",
       "      <td>C105</td>\n",
       "      <td>C</td>\n",
       "      <td>1</td>\n",
       "    </tr>\n",
       "    <tr>\n",
       "      <th>415</th>\n",
       "      <td>1307</td>\n",
       "      <td>3</td>\n",
       "      <td>Saether, Mr. Simon Sivertsen</td>\n",
       "      <td>male</td>\n",
       "      <td>38.5</td>\n",
       "      <td>0</td>\n",
       "      <td>0</td>\n",
       "      <td>SOTON/O.Q. 3101262</td>\n",
       "      <td>7.2500</td>\n",
       "      <td>NaN</td>\n",
       "      <td>S</td>\n",
       "      <td>0</td>\n",
       "    </tr>\n",
       "    <tr>\n",
       "      <th>416</th>\n",
       "      <td>1308</td>\n",
       "      <td>3</td>\n",
       "      <td>Ware, Mr. Frederick</td>\n",
       "      <td>male</td>\n",
       "      <td>NaN</td>\n",
       "      <td>0</td>\n",
       "      <td>0</td>\n",
       "      <td>359309</td>\n",
       "      <td>8.0500</td>\n",
       "      <td>NaN</td>\n",
       "      <td>S</td>\n",
       "      <td>0</td>\n",
       "    </tr>\n",
       "    <tr>\n",
       "      <th>417</th>\n",
       "      <td>1309</td>\n",
       "      <td>3</td>\n",
       "      <td>Peter, Master. Michael J</td>\n",
       "      <td>male</td>\n",
       "      <td>NaN</td>\n",
       "      <td>1</td>\n",
       "      <td>1</td>\n",
       "      <td>2668</td>\n",
       "      <td>22.3583</td>\n",
       "      <td>NaN</td>\n",
       "      <td>C</td>\n",
       "      <td>1</td>\n",
       "    </tr>\n",
       "  </tbody>\n",
       "</table>\n",
       "<p>418 rows × 12 columns</p>\n",
       "</div>"
      ],
      "text/plain": [
       "     PassengerId  Pclass                                          Name  \\\n",
       "0            892       3                              Kelly, Mr. James   \n",
       "1            893       3              Wilkes, Mrs. James (Ellen Needs)   \n",
       "2            894       2                     Myles, Mr. Thomas Francis   \n",
       "3            895       3                              Wirz, Mr. Albert   \n",
       "4            896       3  Hirvonen, Mrs. Alexander (Helga E Lindqvist)   \n",
       "..           ...     ...                                           ...   \n",
       "413         1305       3                            Spector, Mr. Woolf   \n",
       "414         1306       1                  Oliva y Ocana, Dona. Fermina   \n",
       "415         1307       3                  Saether, Mr. Simon Sivertsen   \n",
       "416         1308       3                           Ware, Mr. Frederick   \n",
       "417         1309       3                      Peter, Master. Michael J   \n",
       "\n",
       "        Sex   Age  SibSp  Parch              Ticket      Fare Cabin Embarked  \\\n",
       "0      male  34.5      0      0              330911    7.8292   NaN        Q   \n",
       "1    female  47.0      1      0              363272    7.0000   NaN        S   \n",
       "2      male  62.0      0      0              240276    9.6875   NaN        Q   \n",
       "3      male  27.0      0      0              315154    8.6625   NaN        S   \n",
       "4    female  22.0      1      1             3101298   12.2875   NaN        S   \n",
       "..      ...   ...    ...    ...                 ...       ...   ...      ...   \n",
       "413    male   NaN      0      0           A.5. 3236    8.0500   NaN        S   \n",
       "414  female  39.0      0      0            PC 17758  108.9000  C105        C   \n",
       "415    male  38.5      0      0  SOTON/O.Q. 3101262    7.2500   NaN        S   \n",
       "416    male   NaN      0      0              359309    8.0500   NaN        S   \n",
       "417    male   NaN      1      1                2668   22.3583   NaN        C   \n",
       "\n",
       "     Survived  \n",
       "0           0  \n",
       "1           1  \n",
       "2           0  \n",
       "3           0  \n",
       "4           0  \n",
       "..        ...  \n",
       "413         0  \n",
       "414         1  \n",
       "415         0  \n",
       "416         0  \n",
       "417         1  \n",
       "\n",
       "[418 rows x 12 columns]"
      ]
     },
     "execution_count": 80,
     "metadata": {},
     "output_type": "execute_result"
    }
   ],
   "source": [
    "df_result_analysis"
   ]
  },
  {
   "cell_type": "code",
   "execution_count": 81,
   "metadata": {},
   "outputs": [],
   "source": [
    "df_result_analysis.Sex = df_result_analysis.Sex.map({'male':0, 'female':1})"
   ]
  },
  {
   "cell_type": "code",
   "execution_count": 82,
   "metadata": {},
   "outputs": [
    {
     "data": {
      "text/plain": [
       "PassengerId    152\n",
       "Pclass         152\n",
       "Name           152\n",
       "Sex            152\n",
       "Age            131\n",
       "SibSp          152\n",
       "Parch          152\n",
       "Ticket         152\n",
       "Fare           152\n",
       "Cabin           50\n",
       "Embarked       152\n",
       "Survived       152\n",
       "dtype: int64"
      ]
     },
     "execution_count": 82,
     "metadata": {},
     "output_type": "execute_result"
    }
   ],
   "source": [
    "df_survived = df_result_analysis[df_result_analysis['Survived'] == 1]  \n",
    "df_survived.count()"
   ]
  },
  {
   "cell_type": "code",
   "execution_count": 83,
   "metadata": {},
   "outputs": [
    {
     "data": {
      "text/plain": [
       "1    127\n",
       "0     25\n",
       "Name: Sex, dtype: int64"
      ]
     },
     "execution_count": 83,
     "metadata": {},
     "output_type": "execute_result"
    }
   ],
   "source": [
    "df_survived['Sex'].value_counts()"
   ]
  },
  {
   "cell_type": "code",
   "execution_count": 84,
   "metadata": {},
   "outputs": [
    {
     "data": {
      "text/plain": [
       "PassengerId    27\n",
       "Pclass         27\n",
       "Name           27\n",
       "Sex            27\n",
       "Age            27\n",
       "SibSp          27\n",
       "Parch          27\n",
       "Ticket         27\n",
       "Fare           27\n",
       "Cabin           4\n",
       "Embarked       27\n",
       "Survived       27\n",
       "dtype: int64"
      ]
     },
     "execution_count": 84,
     "metadata": {},
     "output_type": "execute_result"
    }
   ],
   "source": [
    "df_survived[df_survived['Age'] < 18.0 ].count() "
   ]
  },
  {
   "cell_type": "code",
   "execution_count": 85,
   "metadata": {},
   "outputs": [
    {
     "name": "stderr",
     "output_type": "stream",
     "text": [
      "<ipython-input-85-b5835da4bfe3>:1: SettingWithCopyWarning: \n",
      "A value is trying to be set on a copy of a slice from a DataFrame.\n",
      "Try using .loc[row_indexer,col_indexer] = value instead\n",
      "\n",
      "See the caveats in the documentation: https://pandas.pydata.org/pandas-docs/stable/user_guide/indexing.html#returning-a-view-versus-a-copy\n",
      "  df_survived['Family'] = df_survived['SibSp'] + df_survived['Parch']\n"
     ]
    },
    {
     "data": {
      "text/plain": [
       "PassengerId    64\n",
       "Pclass         64\n",
       "Name           64\n",
       "Sex            64\n",
       "Age            48\n",
       "SibSp          64\n",
       "Parch          64\n",
       "Ticket         64\n",
       "Fare           64\n",
       "Cabin          11\n",
       "Embarked       64\n",
       "Survived       64\n",
       "Family         64\n",
       "dtype: int64"
      ]
     },
     "execution_count": 85,
     "metadata": {},
     "output_type": "execute_result"
    }
   ],
   "source": [
    "df_survived['Family'] = df_survived['SibSp'] + df_survived['Parch']\n",
    "df_survived[df_survived['Family'] < 1.0 ].count() "
   ]
  },
  {
   "cell_type": "code",
   "execution_count": 86,
   "metadata": {},
   "outputs": [],
   "source": [
    "df_result_analysis.Ticket = df_result_analysis.Ticket.map(lambda x: x[0])"
   ]
  },
  {
   "cell_type": "code",
   "execution_count": 87,
   "metadata": {},
   "outputs": [
    {
     "data": {
      "text/plain": [
       "3    128\n",
       "2     95\n",
       "1     64\n",
       "P     33\n",
       "S     33\n",
       "C     30\n",
       "A     13\n",
       "W      6\n",
       "F      6\n",
       "7      4\n",
       "6      3\n",
       "L      1\n",
       "9      1\n",
       "4      1\n",
       "Name: Ticket, dtype: int64"
      ]
     },
     "execution_count": 87,
     "metadata": {},
     "output_type": "execute_result"
    }
   ],
   "source": [
    "df_result_analysis['Ticket'].value_counts()"
   ]
  },
  {
   "cell_type": "code",
   "execution_count": 88,
   "metadata": {},
   "outputs": [
    {
     "data": {
      "text/html": [
       "<div>\n",
       "<style scoped>\n",
       "    .dataframe tbody tr th:only-of-type {\n",
       "        vertical-align: middle;\n",
       "    }\n",
       "\n",
       "    .dataframe tbody tr th {\n",
       "        vertical-align: top;\n",
       "    }\n",
       "\n",
       "    .dataframe thead th {\n",
       "        text-align: right;\n",
       "    }\n",
       "</style>\n",
       "<table border=\"1\" class=\"dataframe\">\n",
       "  <thead>\n",
       "    <tr style=\"text-align: right;\">\n",
       "      <th></th>\n",
       "      <th>Ticket</th>\n",
       "      <th>Survived</th>\n",
       "    </tr>\n",
       "  </thead>\n",
       "  <tbody>\n",
       "    <tr>\n",
       "      <th>0</th>\n",
       "      <td>1</td>\n",
       "      <td>0.531250</td>\n",
       "    </tr>\n",
       "    <tr>\n",
       "      <th>1</th>\n",
       "      <td>2</td>\n",
       "      <td>0.305263</td>\n",
       "    </tr>\n",
       "    <tr>\n",
       "      <th>2</th>\n",
       "      <td>3</td>\n",
       "      <td>0.296875</td>\n",
       "    </tr>\n",
       "    <tr>\n",
       "      <th>3</th>\n",
       "      <td>4</td>\n",
       "      <td>0.000000</td>\n",
       "    </tr>\n",
       "    <tr>\n",
       "      <th>4</th>\n",
       "      <td>6</td>\n",
       "      <td>0.000000</td>\n",
       "    </tr>\n",
       "    <tr>\n",
       "      <th>5</th>\n",
       "      <td>7</td>\n",
       "      <td>0.250000</td>\n",
       "    </tr>\n",
       "    <tr>\n",
       "      <th>6</th>\n",
       "      <td>9</td>\n",
       "      <td>0.000000</td>\n",
       "    </tr>\n",
       "    <tr>\n",
       "      <th>7</th>\n",
       "      <td>A</td>\n",
       "      <td>0.384615</td>\n",
       "    </tr>\n",
       "    <tr>\n",
       "      <th>8</th>\n",
       "      <td>C</td>\n",
       "      <td>0.333333</td>\n",
       "    </tr>\n",
       "    <tr>\n",
       "      <th>9</th>\n",
       "      <td>F</td>\n",
       "      <td>0.666667</td>\n",
       "    </tr>\n",
       "    <tr>\n",
       "      <th>10</th>\n",
       "      <td>L</td>\n",
       "      <td>0.000000</td>\n",
       "    </tr>\n",
       "    <tr>\n",
       "      <th>11</th>\n",
       "      <td>P</td>\n",
       "      <td>0.545455</td>\n",
       "    </tr>\n",
       "    <tr>\n",
       "      <th>12</th>\n",
       "      <td>S</td>\n",
       "      <td>0.333333</td>\n",
       "    </tr>\n",
       "    <tr>\n",
       "      <th>13</th>\n",
       "      <td>W</td>\n",
       "      <td>0.333333</td>\n",
       "    </tr>\n",
       "  </tbody>\n",
       "</table>\n",
       "</div>"
      ],
      "text/plain": [
       "   Ticket  Survived\n",
       "0       1  0.531250\n",
       "1       2  0.305263\n",
       "2       3  0.296875\n",
       "3       4  0.000000\n",
       "4       6  0.000000\n",
       "5       7  0.250000\n",
       "6       9  0.000000\n",
       "7       A  0.384615\n",
       "8       C  0.333333\n",
       "9       F  0.666667\n",
       "10      L  0.000000\n",
       "11      P  0.545455\n",
       "12      S  0.333333\n",
       "13      W  0.333333"
      ]
     },
     "execution_count": 88,
     "metadata": {},
     "output_type": "execute_result"
    }
   ],
   "source": [
    "df_result_analysis[['Ticket', 'Survived']].groupby(['Ticket'], as_index=False).mean()"
   ]
  },
  {
   "cell_type": "code",
   "execution_count": 89,
   "metadata": {},
   "outputs": [
    {
     "data": {
      "text/plain": [
       "S    270\n",
       "C    102\n",
       "Q     46\n",
       "Name: Embarked, dtype: int64"
      ]
     },
     "execution_count": 89,
     "metadata": {},
     "output_type": "execute_result"
    }
   ],
   "source": [
    "df_result_analysis['Embarked'].value_counts()"
   ]
  },
  {
   "cell_type": "code",
   "execution_count": 90,
   "metadata": {},
   "outputs": [
    {
     "data": {
      "text/html": [
       "<div>\n",
       "<style scoped>\n",
       "    .dataframe tbody tr th:only-of-type {\n",
       "        vertical-align: middle;\n",
       "    }\n",
       "\n",
       "    .dataframe tbody tr th {\n",
       "        vertical-align: top;\n",
       "    }\n",
       "\n",
       "    .dataframe thead th {\n",
       "        text-align: right;\n",
       "    }\n",
       "</style>\n",
       "<table border=\"1\" class=\"dataframe\">\n",
       "  <thead>\n",
       "    <tr style=\"text-align: right;\">\n",
       "      <th></th>\n",
       "      <th>Embarked</th>\n",
       "      <th>Survived</th>\n",
       "    </tr>\n",
       "  </thead>\n",
       "  <tbody>\n",
       "    <tr>\n",
       "      <th>0</th>\n",
       "      <td>C</td>\n",
       "      <td>0.460784</td>\n",
       "    </tr>\n",
       "    <tr>\n",
       "      <th>1</th>\n",
       "      <td>Q</td>\n",
       "      <td>0.434783</td>\n",
       "    </tr>\n",
       "    <tr>\n",
       "      <th>2</th>\n",
       "      <td>S</td>\n",
       "      <td>0.314815</td>\n",
       "    </tr>\n",
       "  </tbody>\n",
       "</table>\n",
       "</div>"
      ],
      "text/plain": [
       "  Embarked  Survived\n",
       "0        C  0.460784\n",
       "1        Q  0.434783\n",
       "2        S  0.314815"
      ]
     },
     "execution_count": 90,
     "metadata": {},
     "output_type": "execute_result"
    }
   ],
   "source": [
    "df_result_analysis[['Embarked', 'Survived']].groupby(['Embarked'], as_index=False).mean()"
   ]
  },
  {
   "cell_type": "code",
   "execution_count": null,
   "metadata": {},
   "outputs": [],
   "source": []
  }
 ],
 "metadata": {
  "kernelspec": {
   "display_name": "Python 3",
   "language": "python",
   "name": "python3"
  },
  "language_info": {
   "codemirror_mode": {
    "name": "ipython",
    "version": 3
   },
   "file_extension": ".py",
   "mimetype": "text/x-python",
   "name": "python",
   "nbconvert_exporter": "python",
   "pygments_lexer": "ipython3",
   "version": "3.8.3"
  }
 },
 "nbformat": 4,
 "nbformat_minor": 4
}
