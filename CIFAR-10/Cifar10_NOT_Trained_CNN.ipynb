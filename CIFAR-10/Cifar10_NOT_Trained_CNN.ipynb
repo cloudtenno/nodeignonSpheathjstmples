{
 "cells": [
  {
   "cell_type": "code",
   "execution_count": 1,
   "metadata": {},
   "outputs": [],
   "source": [
    "import keras\n",
    "from keras.datasets import cifar10"
   ]
  },
  {
   "cell_type": "code",
   "execution_count": 2,
   "metadata": {},
   "outputs": [],
   "source": [
    "import numpy as np"
   ]
  },
  {
   "cell_type": "code",
   "execution_count": 3,
   "metadata": {},
   "outputs": [],
   "source": [
    "# importing the cifar10 data\n",
    "(x_train,y_train),(x_test,y_test) = cifar10.load_data()"
   ]
  },
  {
   "cell_type": "code",
   "execution_count": 4,
   "metadata": {},
   "outputs": [],
   "source": [
    "from sklearn.preprocessing import OneHotEncoder as ONE"
   ]
  },
  {
   "cell_type": "code",
   "execution_count": 5,
   "metadata": {},
   "outputs": [],
   "source": [
    "# using one hot encoder from sklearn as target should be in one hot encoded form\n",
    "one_hot = ONE(sparse = False)\n",
    "y_train = one_hot.fit_transform(y_train)\n",
    "y_test = one_hot.fit_transform(y_test)"
   ]
  },
  {
   "cell_type": "code",
   "execution_count": 6,
   "metadata": {},
   "outputs": [],
   "source": [
    "# to make the all data points from 0 to 1\n",
    "x_train = x_train.astype('float')/255.0 \n",
    "x_test = x_test.astype('float')/255.0"
   ]
  },
  {
   "cell_type": "code",
   "execution_count": 7,
   "metadata": {},
   "outputs": [
    {
     "data": {
      "text/plain": [
       "((50000, 32, 32, 3),\n",
       " (50000, 10),\n",
       " (10000, 32, 32, 3),\n",
       " (10000, 10),\n",
       " dtype('float64'),\n",
       " dtype('float64'),\n",
       " dtype('float64'),\n",
       " dtype('float64'))"
      ]
     },
     "execution_count": 7,
     "metadata": {},
     "output_type": "execute_result"
    }
   ],
   "source": [
    "# checking the shape and data type of test and train data\n",
    "x_train.shape,y_train.shape,x_test.shape,y_test.shape,x_train.dtype,x_test.dtype,y_train.dtype,y_test.dtype"
   ]
  },
  {
   "cell_type": "code",
   "execution_count": 8,
   "metadata": {},
   "outputs": [],
   "source": [
    "# importing required models\n",
    "from keras.models import Sequential\n",
    "from keras.layers import Dense,Conv2D, MaxPooling2D,Flatten,Activation,Dropout\n",
    "from keras.optimizers import Adam"
   ]
  },
  {
   "cell_type": "code",
   "execution_count": 9,
   "metadata": {},
   "outputs": [
    {
     "name": "stdout",
     "output_type": "stream",
     "text": [
      "Epoch 1/25\n",
      "100/100 [==============================] - 127s 1s/step - loss: 2.6565 - accuracy: 0.1150 - val_loss: 2.0031 - val_accuracy: 0.2718\n",
      "Epoch 2/25\n",
      "100/100 [==============================] - 136s 1s/step - loss: 1.9043 - accuracy: 0.2934 - val_loss: 1.5548 - val_accuracy: 0.4357\n",
      "Epoch 3/25\n",
      "100/100 [==============================] - 137s 1s/step - loss: 1.5727 - accuracy: 0.4190 - val_loss: 1.3162 - val_accuracy: 0.5196\n",
      "Epoch 4/25\n",
      "100/100 [==============================] - 114s 1s/step - loss: 1.3749 - accuracy: 0.4983 - val_loss: 1.1633 - val_accuracy: 0.5836\n",
      "Epoch 5/25\n",
      "100/100 [==============================] - 111s 1s/step - loss: 1.2380 - accuracy: 0.5572 - val_loss: 1.0837 - val_accuracy: 0.6104\n",
      "Epoch 6/25\n",
      "100/100 [==============================] - 111s 1s/step - loss: 1.1265 - accuracy: 0.5975 - val_loss: 1.0444 - val_accuracy: 0.6240\n",
      "Epoch 7/25\n",
      "100/100 [==============================] - 110s 1s/step - loss: 1.0438 - accuracy: 0.6350 - val_loss: 0.9646 - val_accuracy: 0.6621\n",
      "Epoch 8/25\n",
      "100/100 [==============================] - 111s 1s/step - loss: 0.9635 - accuracy: 0.6602 - val_loss: 0.9106 - val_accuracy: 0.6810\n",
      "Epoch 9/25\n",
      "100/100 [==============================] - 111s 1s/step - loss: 0.9169 - accuracy: 0.6757 - val_loss: 0.8394 - val_accuracy: 0.7076\n",
      "Epoch 10/25\n",
      "100/100 [==============================] - 110s 1s/step - loss: 0.8585 - accuracy: 0.6996 - val_loss: 0.7991 - val_accuracy: 0.7140\n",
      "Epoch 11/25\n",
      "100/100 [==============================] - 110s 1s/step - loss: 0.8108 - accuracy: 0.7147 - val_loss: 0.7771 - val_accuracy: 0.7268\n",
      "Epoch 12/25\n",
      "100/100 [==============================] - 110s 1s/step - loss: 0.7736 - accuracy: 0.7268 - val_loss: 0.7815 - val_accuracy: 0.7261\n",
      "Epoch 13/25\n",
      "100/100 [==============================] - 110s 1s/step - loss: 0.7384 - accuracy: 0.7420 - val_loss: 0.7283 - val_accuracy: 0.7485\n",
      "Epoch 14/25\n",
      "100/100 [==============================] - 113s 1s/step - loss: 0.6938 - accuracy: 0.7558 - val_loss: 0.6839 - val_accuracy: 0.7627\n",
      "Epoch 15/25\n",
      "100/100 [==============================] - 110s 1s/step - loss: 0.6513 - accuracy: 0.7716 - val_loss: 0.6855 - val_accuracy: 0.7642\n",
      "Epoch 16/25\n",
      "100/100 [==============================] - 110s 1s/step - loss: 0.6313 - accuracy: 0.7776 - val_loss: 0.6886 - val_accuracy: 0.7618\n",
      "Epoch 17/25\n",
      "100/100 [==============================] - 111s 1s/step - loss: 0.5993 - accuracy: 0.7893 - val_loss: 0.6961 - val_accuracy: 0.7674\n",
      "Epoch 18/25\n",
      "100/100 [==============================] - 111s 1s/step - loss: 0.5717 - accuracy: 0.7969 - val_loss: 0.6730 - val_accuracy: 0.7754\n",
      "Epoch 19/25\n",
      "100/100 [==============================] - 110s 1s/step - loss: 0.5493 - accuracy: 0.8085 - val_loss: 0.6659 - val_accuracy: 0.7729\n",
      "Epoch 20/25\n",
      "100/100 [==============================] - 113s 1s/step - loss: 0.5348 - accuracy: 0.8129 - val_loss: 0.6300 - val_accuracy: 0.7864\n",
      "Epoch 21/25\n",
      "100/100 [==============================] - 141s 1s/step - loss: 0.5077 - accuracy: 0.8212 - val_loss: 0.6342 - val_accuracy: 0.7881\n",
      "Epoch 22/25\n",
      "100/100 [==============================] - 120s 1s/step - loss: 0.4938 - accuracy: 0.8269 - val_loss: 0.6156 - val_accuracy: 0.7948\n",
      "Epoch 23/25\n",
      "100/100 [==============================] - 114s 1s/step - loss: 0.4675 - accuracy: 0.8329 - val_loss: 0.6112 - val_accuracy: 0.7993\n",
      "Epoch 24/25\n",
      "100/100 [==============================] - 112s 1s/step - loss: 0.4538 - accuracy: 0.8399 - val_loss: 0.6119 - val_accuracy: 0.7970\n",
      "Epoch 25/25\n",
      "100/100 [==============================] - 112s 1s/step - loss: 0.4406 - accuracy: 0.8439 - val_loss: 0.6298 - val_accuracy: 0.7978\n"
     ]
    }
   ],
   "source": [
    "\n",
    "model = Sequential()\n",
    "\n",
    "model.add(Conv2D(32,(3,3),strides=1, padding='same',activation = 'relu',use_bias = True,kernel_initializer='he_uniform',input_shape=(32,32,3)))\n",
    "model.add(Conv2D(32,(3,3),strides=1, padding='same',activation = 'relu',use_bias = True,kernel_initializer='he_uniform'))\n",
    "model.add(MaxPooling2D(pool_size=(2,2),padding='same'))\n",
    "model.add(Dropout(0.2))\n",
    "model.add(Conv2D(64,(3,3),strides=1, padding='same',activation = 'relu',use_bias = True,kernel_initializer='he_uniform'))\n",
    "model.add(Conv2D(64,(3,3),strides=1, padding='same',activation = 'relu',use_bias = True,kernel_initializer='he_uniform'))\n",
    "model.add(MaxPooling2D(pool_size=(2,2),padding='same'))\n",
    "model.add(Dropout(0.2))\n",
    "model.add(Conv2D(128,(3,3),strides=1, padding='same',activation = 'relu',use_bias = True,kernel_initializer='he_uniform'))\n",
    "model.add(Conv2D(128,(3,3),strides=1, padding='same',activation = 'relu',use_bias = True,kernel_initializer='he_uniform'))\n",
    "model.add(MaxPooling2D(pool_size=(2,2),padding='same'))\n",
    "model.add(Dropout(0.2))\n",
    "model.add(Flatten())\n",
    "model.add(Dense(128, activation='relu',use_bias=True,kernel_initializer='he_uniform'))\n",
    "model.add(Dropout(0.2))\n",
    "model.add(Dense(10,activation = 'softmax',use_bias=True))\n",
    "\n",
    "model.compile(optimizer = 'adam', loss = 'categorical_crossentropy' , metrics = ['accuracy'])\n",
    "\n",
    "model.fit(x_train,y_train,epochs =25,batch_size = 500,validation_data=(x_test,y_test)) # use verbose=0 if you don.t want these progess bar to showup"
   ]
  },
  {
   "cell_type": "code",
   "execution_count": 10,
   "metadata": {},
   "outputs": [
    {
     "name": "stderr",
     "output_type": "stream",
     "text": [
      "S:\\Anaconda\\lib\\site-packages\\tensorflow\\python\\keras\\engine\\training.py:2342: UserWarning: `Model.state_updates` will be removed in a future version. This property should not be used in TensorFlow 2.0, as `updates` are applied automatically.\n",
      "  warnings.warn('`Model.state_updates` will be removed in a future version. '\n",
      "S:\\Anaconda\\lib\\site-packages\\tensorflow\\python\\keras\\engine\\base_layer.py:1395: UserWarning: `layer.updates` will be removed in a future version. This property should not be used in TensorFlow 2.0, as `updates` are applied automatically.\n",
      "  warnings.warn('`layer.updates` will be removed in a future version. '\n"
     ]
    },
    {
     "name": "stdout",
     "output_type": "stream",
     "text": [
      "INFO:tensorflow:Assets written to: CIFAR_10\\assets\n"
     ]
    }
   ],
   "source": [
    "model.save('CIFAR_10')"
   ]
  },
  {
   "cell_type": "code",
   "execution_count": 8,
   "metadata": {},
   "outputs": [],
   "source": [
    "model = keras.models.load_model('CIFAR_10')"
   ]
  },
  {
   "cell_type": "code",
   "execution_count": 9,
   "metadata": {},
   "outputs": [
    {
     "name": "stdout",
     "output_type": "stream",
     "text": [
      "313/313 [==============================] - 6s 20ms/step - loss: 0.6298 - accuracy: 0.7978 0s -\n",
      "0.7978000044822693\n"
     ]
    }
   ],
   "source": [
    "_,score = model.evaluate(x_test,y_test)\n",
    "print(score)"
   ]
  },
  {
   "cell_type": "code",
   "execution_count": 15,
   "metadata": {},
   "outputs": [
    {
     "name": "stdout",
     "output_type": "stream",
     "text": [
      "Model: \"sequential\"\n",
      "_________________________________________________________________\n",
      "Layer (type)                 Output Shape              Param #   \n",
      "=================================================================\n",
      "conv2d (Conv2D)              (None, 32, 32, 32)        896       \n",
      "_________________________________________________________________\n",
      "conv2d_1 (Conv2D)            (None, 32, 32, 32)        9248      \n",
      "_________________________________________________________________\n",
      "max_pooling2d (MaxPooling2D) (None, 16, 16, 32)        0         \n",
      "_________________________________________________________________\n",
      "dropout (Dropout)            (None, 16, 16, 32)        0         \n",
      "_________________________________________________________________\n",
      "conv2d_2 (Conv2D)            (None, 16, 16, 64)        18496     \n",
      "_________________________________________________________________\n",
      "conv2d_3 (Conv2D)            (None, 16, 16, 64)        36928     \n",
      "_________________________________________________________________\n",
      "max_pooling2d_1 (MaxPooling2 (None, 8, 8, 64)          0         \n",
      "_________________________________________________________________\n",
      "dropout_1 (Dropout)          (None, 8, 8, 64)          0         \n",
      "_________________________________________________________________\n",
      "conv2d_4 (Conv2D)            (None, 8, 8, 128)         73856     \n",
      "_________________________________________________________________\n",
      "conv2d_5 (Conv2D)            (None, 8, 8, 128)         147584    \n",
      "_________________________________________________________________\n",
      "max_pooling2d_2 (MaxPooling2 (None, 4, 4, 128)         0         \n",
      "_________________________________________________________________\n",
      "dropout_2 (Dropout)          (None, 4, 4, 128)         0         \n",
      "_________________________________________________________________\n",
      "flatten (Flatten)            (None, 2048)              0         \n",
      "_________________________________________________________________\n",
      "dense (Dense)                (None, 128)               262272    \n",
      "_________________________________________________________________\n",
      "dropout_3 (Dropout)          (None, 128)               0         \n",
      "_________________________________________________________________\n",
      "dense_1 (Dense)              (None, 10)                1290      \n",
      "=================================================================\n",
      "Total params: 550,570\n",
      "Trainable params: 550,570\n",
      "Non-trainable params: 0\n",
      "_________________________________________________________________\n"
     ]
    }
   ],
   "source": [
    "# getting the summary of our model\n",
    "model.summary()"
   ]
  },
  {
   "cell_type": "code",
   "execution_count": null,
   "metadata": {},
   "outputs": [],
   "source": []
  }
 ],
 "metadata": {
  "kernelspec": {
   "display_name": "Python 3",
   "language": "python",
   "name": "python3"
  },
  "language_info": {
   "codemirror_mode": {
    "name": "ipython",
    "version": 3
   },
   "file_extension": ".py",
   "mimetype": "text/x-python",
   "name": "python",
   "nbconvert_exporter": "python",
   "pygments_lexer": "ipython3",
   "version": "3.8.3"
  }
 },
 "nbformat": 4,
 "nbformat_minor": 4
}
